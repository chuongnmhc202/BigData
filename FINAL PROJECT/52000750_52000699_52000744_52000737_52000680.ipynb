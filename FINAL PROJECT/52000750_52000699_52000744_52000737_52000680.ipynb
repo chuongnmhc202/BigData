{
  "nbformat": 4,
  "nbformat_minor": 0,
  "metadata": {
    "colab": {
      "provenance": [],
      "collapsed_sections": [
        "suWS2YYfo6cO",
        "yEfVjCtIIpc2",
        "EMZuRYa5UEDr",
        "3R-18UqoVyGU",
        "tF44Q723dRoS"
      ]
    },
    "kernelspec": {
      "name": "python3",
      "display_name": "Python 3"
    },
    "language_info": {
      "name": "python"
    }
  },
  "cells": [
    {
      "cell_type": "markdown",
      "source": [
        "# **CÂU 1: Phân cụm dữ liệu**"
      ],
      "metadata": {
        "id": "suWS2YYfo6cO"
      }
    },
    {
      "cell_type": "markdown",
      "source": [
        "## Installation"
      ],
      "metadata": {
        "id": "kNq-CW-BH7J1"
      }
    },
    {
      "cell_type": "code",
      "source": [
        "from google.colab import drive\n",
        "drive.mount('/content/drive')"
      ],
      "metadata": {
        "colab": {
          "base_uri": "https://localhost:8080/"
        },
        "id": "Ak31G8qWIbIt",
        "outputId": "035f1348-dead-411c-a394-2876cd918d06"
      },
      "execution_count": null,
      "outputs": [
        {
          "output_type": "stream",
          "name": "stdout",
          "text": [
            "Drive already mounted at /content/drive; to attempt to forcibly remount, call drive.mount(\"/content/drive\", force_remount=True).\n"
          ]
        }
      ]
    },
    {
      "cell_type": "code",
      "source": [
        "!apt-get install openjdk-8-jdk-headless -qq > /dev/null\n",
        "# !wget -q http://archive.apache.org/dist/spark/spark-3.1.1/spark-3.1.1-bin-hadoop3.2.tgz\n",
        "!cp drive/MyDrive/MMDS-data/spark-3.1.1-bin-hadoop3.2.tgz .\n",
        "!tar xf spark-3.1.1-bin-hadoop3.2.tgz\n",
        "!pip install -q findspark"
      ],
      "metadata": {
        "id": "GEpQif_JIAEA"
      },
      "execution_count": null,
      "outputs": []
    },
    {
      "cell_type": "code",
      "source": [
        "import os\n",
        "os.environ[\"JAVA_HOME\"] = \"/usr/lib/jvm/java-8-openjdk-amd64\"\n",
        "os.environ[\"SPARK_HOME\"] = \"/content/spark-3.1.1-bin-hadoop3.2\""
      ],
      "metadata": {
        "id": "Hsqi1i7cIJCX"
      },
      "execution_count": null,
      "outputs": []
    },
    {
      "cell_type": "code",
      "source": [
        "import findspark\n",
        "findspark.init()"
      ],
      "metadata": {
        "id": "RVsqP-P7INhp"
      },
      "execution_count": null,
      "outputs": []
    },
    {
      "cell_type": "code",
      "source": [
        "from pyspark import SparkContext\n",
        "\n",
        "sc = SparkContext(master=\"local\", appName=\"final\")"
      ],
      "metadata": {
        "id": "DtHvoyxWIlqt"
      },
      "execution_count": null,
      "outputs": []
    },
    {
      "cell_type": "code",
      "source": [
        "from pyspark.sql import SQLContext\n",
        "from pyspark.sql.types import IntegerType, StructType, StringType, ArrayType, StructField\n",
        "\n",
        "sqlc = SQLContext(sc)"
      ],
      "metadata": {
        "id": "0oJLXFgKIpHN"
      },
      "execution_count": null,
      "outputs": []
    },
    {
      "cell_type": "code",
      "source": [
        "import matplotlib.pyplot as plt\n",
        "import numpy as np\n",
        "import pyspark.sql.functions as F\n",
        "from pyspark.sql.types import IntegerType\n",
        "from pyspark.sql import SQLContext\n",
        "from pyspark.sql.types import StructType, StringType, ArrayType, StructField,DoubleType"
      ],
      "metadata": {
        "id": "8lInt1-dFam2"
      },
      "execution_count": null,
      "outputs": []
    },
    {
      "cell_type": "code",
      "source": [
        "from pyspark.sql import SparkSession\n",
        "spark = SparkSession(sc)"
      ],
      "metadata": {
        "id": "nBUtu-WTGAiM"
      },
      "execution_count": null,
      "outputs": []
    },
    {
      "cell_type": "code",
      "source": [
        "# Tạo RDD từ dữ liệu \n",
        "rdd = spark.sparkContext.textFile(\"mnist_small_test.csv\")\n",
        "\n",
        "# Chuyển RDD thành DataFrame\n",
        "df = rdd.map(lambda line: line.split(\",\")).toDF()\n",
        "\n",
        "# Đặt tên cho các cột\n",
        "df = df.withColumnRenamed(\"_1\", \"label\")\n",
        "df = df.selectExpr(\"cast(label as int) as label\", *[\"cast(_{0} as int) as pixel_{0}\".format(i) for i in range(2, 786)])"
      ],
      "metadata": {
        "id": "05-YXKmTFdlE"
      },
      "execution_count": null,
      "outputs": []
    },
    {
      "cell_type": "code",
      "source": [
        "# Hàm chuyển đổi vector ảnh thành ma trận\n",
        "def reshape_image(row):\n",
        "    pixels = row[1:]\n",
        "    return (row[0], [pixels[i:i+28] for i in range(0, len(pixels), 28)])\n",
        "\n",
        "# Áp dụng hàm chuyển đổi vào DataFrame\n",
        "df = df.rdd.map(reshape_image).toDF([\"label\", \"image\"])"
      ],
      "metadata": {
        "id": "pgM_-an2Fov7"
      },
      "execution_count": null,
      "outputs": []
    },
    {
      "cell_type": "markdown",
      "source": [
        "## **YC1_1: Hiển thị**"
      ],
      "metadata": {
        "id": "ed30oVU7vw3r"
      }
    },
    {
      "cell_type": "code",
      "source": [
        "# Lấy 15 bức ảnh đầu tiên\n",
        "sample_df = df.limit(15).toPandas()\n",
        "\n",
        "# Tạo lưới 3 x 5 và hiển thị ảnh\n",
        "fig, axes = plt.subplots(nrows=3, ncols=5, figsize=(10, 6))\n",
        "\n",
        "for i, ax in enumerate(axes.flatten()):\n",
        "    ax.imshow(sample_df[\"image\"][i], cmap=\"gray\")\n",
        "    ax.set_title(str(sample_df[\"label\"][i]))\n",
        "    ax.axis(\"off\")\n",
        "\n",
        "plt.tight_layout()\n",
        "plt.show()"
      ],
      "metadata": {
        "colab": {
          "base_uri": "https://localhost:8080/",
          "height": 608
        },
        "id": "5Fuqkfv6GMS8",
        "outputId": "c85ac66d-abc1-43ab-9f84-424ec51e5292"
      },
      "execution_count": null,
      "outputs": [
        {
          "output_type": "display_data",
          "data": {
            "text/plain": [
              "<Figure size 1000x600 with 15 Axes>"
            ],
            "image/png": "[encoded data removed]"
          },
          "metadata": {}
        }
      ]
    },
    {
      "cell_type": "code",
      "source": [
        "from pyspark.ml.clustering import KMeans\n",
        "from pyspark.ml.evaluation import ClusteringEvaluator\n",
        "from pyspark.ml.feature import VectorAssembler\n",
        "from pyspark.ml.clustering import KMeansModel\n",
        "from pyspark.sql.functions import udf"
      ],
      "metadata": {
        "id": "-Rl7ZQRWHCRL"
      },
      "execution_count": null,
      "outputs": []
    },
    {
      "cell_type": "code",
      "source": [
        "# Lựa chọn các cột pixel để tạo DataFrame chứa dữ liệu đầu vào cho KMeans\n",
        "feature_cols = [\"pixel_{}\".format(i) for i in range(2,786)]\n",
        "\n",
        "# Tạo VectorAssembler để tạo cột \"features\" từ các cột pixel\n",
        "assembler = VectorAssembler(inputCols=feature_cols, outputCol=\"features\")\n",
        "\n",
        "# Tạo DataFrame chỉ chứa các cột pixel\n",
        "input_data = df.select(*feature_cols)\n",
        "\n",
        "# Biến đổi DataFrame để thêm cột \"features\"\n",
        "input_data = assembler.transform(input_data)"
      ],
      "metadata": {
        "id": "VUVC9cDIHJrs"
      },
      "execution_count": null,
      "outputs": []
    },
    {
      "cell_type": "markdown",
      "source": [
        "## **YC1_2: Phân cụm**"
      ],
      "metadata": {
        "id": "Gu-XOMYNv4gC"
      }
    },
    {
      "cell_type": "code",
      "source": [
        "# Chọn giá trị k\n",
        "k_values = [5, 10, 15]\n",
        "\n",
        "# Tạo mô hình và tính toán tổng khoảng cách Euclidean cho mỗi giá trị k\n",
        "models = []\n",
        "distances = []\n",
        "\n",
        "for k in k_values:\n",
        "    # Tạo mô hình KMeans với giá trị k\n",
        "    kmeans = KMeans().setK(k).setSeed(42)\n",
        "\n",
        "    # Huấn luyện mô hình\n",
        "    model = kmeans.fit(input_data)\n",
        "\n",
        "    # Phân cụm dữ liệu\n",
        "    predictions = model.transform(input_data)\n",
        "\n",
        "    # Lưu mô hình xuống file\n",
        "    model.write().overwrite().save(\"kmeans_model_k{}\".format(k))\n",
        "    \n",
        "    # Load mô hình từ file\n",
        "    loaded_model = KMeansModel.load(\"kmeans_model_k{}\".format(k))\n",
        "\n",
        "    # Đánh giá mô hình\n",
        "    evaluator = ClusteringEvaluator()\n",
        "    silhouette = evaluator.evaluate(predictions)\n",
        "    \n",
        "    # Tính tổng khoảng cách Euclidean từ mỗi điểm dữ liệu tới centroid tương ứng\n",
        "    evaluator = ClusteringEvaluator()\n",
        "    distance = evaluator.evaluate(loaded_model.transform(input_data))\n",
        "    distances.append(distance)\n",
        "    \n",
        "    models.append(loaded_model)"
      ],
      "metadata": {
        "id": "j1zoxB6gICDT"
      },
      "execution_count": null,
      "outputs": []
    },
    {
      "cell_type": "markdown",
      "source": [
        "## **YC1_3: Trực quan hoá kết quả**"
      ],
      "metadata": {
        "id": "NtWb_YbVv8Cg"
      }
    },
    {
      "cell_type": "code",
      "source": [
        "# Chia cột x thành các nhóm\n",
        "x_ticks = np.arange(len(k_values))\n",
        "group_labels = ['k={}'.format(k) for k in k_values]\n",
        "\n",
        "# Vẽ biểu đồ cột\n",
        "plt.bar(x_ticks, distances, tick_label=group_labels)\n",
        "plt.xlabel('k')\n",
        "plt.ylabel('Tổng khoảng cách Euclidean')\n",
        "plt.title('Tổng khoảng cách Euclidean từ mỗi điểm dữ liệu tới centroid')\n",
        "plt.show()"
      ],
      "metadata": {
        "colab": {
          "base_uri": "https://localhost:8080/",
          "height": 474
        },
        "id": "8BMR2CnXPxOw",
        "outputId": "3f9b2049-337c-4a01-c9a2-743ae6331276"
      },
      "execution_count": null,
      "outputs": [
        {
          "output_type": "display_data",
          "data": {
            "text/plain": [
              "<Figure size 640x480 with 1 Axes>"
            ],
            "image/png": "[encoded data removed]"
          },
          "metadata": {}
        }
      ]
    },
    {
      "cell_type": "markdown",
      "source": [
        "# **Câu 2:  Giảm số chiều với SVD**"
      ],
      "metadata": {
        "id": "yEfVjCtIIpc2"
      }
    },
    {
      "cell_type": "code",
      "source": [
        "from pyspark.mllib.linalg.distributed import RowMatrix\n",
        "import pandas as pd\n",
        "import numpy as np"
      ],
      "metadata": {
        "id": "xzJ0AvJXN5_C"
      },
      "execution_count": null,
      "outputs": []
    },
    {
      "cell_type": "code",
      "source": [
        "def reduce_dimensions(file_path, output_file, k=196):\n",
        "    # Đọc dữ liệu từ file CSV\n",
        "    data = pd.read_csv(file_path, header=None)\n",
        "    labels = data.iloc[:, 0]\n",
        "    features = data.iloc[:, 1:]\n",
        "\n",
        "    # Chuyển đổi dữ liệu thành RowMatrix\n",
        "    rows = sc.parallelize(features.values)\n",
        "    mat = RowMatrix(rows)\n",
        "\n",
        "    # Tính toán SVD và giảm số chiều\n",
        "    svd = mat.computeSVD(k, computeU=True)\n",
        "    U = svd.U\n",
        "    s = svd.s\n",
        "    V = svd.V\n",
        "    \n",
        "    U = np.array(U.rows.collect())\n",
        "    s = np.array(s)\n",
        "    V = np.array(V.toArray()).transpose()[:, :k]\n",
        "\n",
        "    reduced_matrix = U @ np.diag(s) @ V\n",
        "    # Lưu kết quả vào file CSV\n",
        "    reduced_data = pd.concat([labels, pd.DataFrame(reduced_matrix)], axis=1)\n",
        "    reduced_data.to_csv(output_file, index=False, header=False)\n",
        "    sc.stop()"
      ],
      "metadata": {
        "id": "s1l5PX0uIy5K"
      },
      "execution_count": null,
      "outputs": []
    },
    {
      "cell_type": "code",
      "source": [
        "#Câu 2_1: Giảm số chiều tập train\n",
        "reduce_dimensions('/content/drive/MyDrive/BigData/Final/datasets/mnist_small_train.csv', '/content/drive/MyDrive/BigData/Final/datasets/mnist_small_train_svd.csv')"
      ],
      "metadata": {
        "id": "6rEYw7J3Kg8F"
      },
      "execution_count": null,
      "outputs": []
    },
    {
      "cell_type": "code",
      "source": [
        "#Câu 2_2: Giảm số chiều tập test\n",
        "reduce_dimensions('/content/drive/MyDrive/BigData/Final/datasets/mnist_small_test.csv', '/content/drive/MyDrive/BigData/Final/datasets/mnist_small_test_svd.csv')"
      ],
      "metadata": {
        "id": "2jHHy83wfCJm"
      },
      "execution_count": null,
      "outputs": []
    },
    {
      "cell_type": "markdown",
      "source": [
        "# **Câu 3: Khuyến nghị sản phẩm với Collaborative Filtering**"
      ],
      "metadata": {
        "id": "EMZuRYa5UEDr"
      }
    },
    {
      "cell_type": "code",
      "source": [
        "from pyspark.ml.evaluation import RegressionEvaluator\n",
        "from pyspark.ml.recommendation import ALS\n",
        "from pyspark.sql import Row\n",
        "\n",
        "# Đọc file CSV và chuyển đổi dữ liệu sang dạng DataFrame\n",
        "ratings = sqlc.read.format('csv').option('header', 'true').option('inferSchema', 'true')\\\n",
        "              .load('/content/drive/MyDrive/BigData/data/ratings2k.csv')\\\n",
        "              .withColumnRenamed('0', 'index').withColumnRenamed('1', 'user')\\\n",
        "              .withColumnRenamed('2', 'item').withColumnRenamed('3', 'rating')\\\n",
        "              .orderBy('user')\n",
        "\n",
        "# Cache DataFrame ratings để tăng tốc độ xử lý\n",
        "ratings.cache()\n",
        "\n",
        "# Hiển thị schema và 20 dòng đầu tiên của DataFrame ratings\n",
        "ratings.printSchema()\n",
        "ratings.show(20) # show 20 dòng đầu"
      ],
      "metadata": {
        "colab": {
          "base_uri": "https://localhost:8080/"
        },
        "id": "RNMMxAXlUF86",
        "outputId": "5cc5e85e-7cd3-4c10-bcef-30014402dd06"
      },
      "execution_count": null,
      "outputs": [
        {
          "output_type": "stream",
          "name": "stdout",
          "text": [
            "root\n",
            " |-- index: integer (nullable = true)\n",
            " |-- user: integer (nullable = true)\n",
            " |-- item: integer (nullable = true)\n",
            " |-- rating: double (nullable = true)\n",
            "\n",
            "+-----+----+----+------+\n",
            "|index|user|item|rating|\n",
            "+-----+----+----+------+\n",
            "|   32|   1| 167|   3.5|\n",
            "|  130|   1| 422|   3.5|\n",
            "|  390|   1| 352|   5.0|\n",
            "| 1188|   1| 168|   5.0|\n",
            "| 1544|   1| 163|   5.0|\n",
            "|   50|   2| 413|   3.5|\n",
            "|  139|   2| 183|   5.0|\n",
            "|  238|   2| 434|   4.0|\n",
            "|  482|   2| 251|   5.0|\n",
            "|  674|   2| 288|   5.0|\n",
            "|  757|   2| 204|   4.5|\n",
            "| 1097|   2|  82|   4.5|\n",
            "| 1108|   2| 310|   2.0|\n",
            "| 1180|   2| 176|   5.0|\n",
            "| 1213|   2|   0|   3.5|\n",
            "| 1274|   2| 199|   4.5|\n",
            "| 1399|   2| 320|   2.0|\n",
            "| 1485|   2| 271|   4.0|\n",
            "| 1568|   2| 216|   1.0|\n",
            "| 1622|   2| 294|   4.5|\n",
            "+-----+----+----+------+\n",
            "only showing top 20 rows\n",
            "\n"
          ]
        }
      ]
    },
    {
      "cell_type": "code",
      "source": [
        "# Lọc và tách dữ liệu thành tập huấn luyện và tập kiểm tra\n",
        "train_data = ratings\n",
        "test_data = ratings.filter((ratings.user >= 71) & (ratings.item >= 401))\n",
        " # Lấy dữ liệu của người dùng từ 71 đến hết và items từ 401 đến hết"
      ],
      "metadata": {
        "id": "L77Zwx4OUmWZ"
      },
      "execution_count": null,
      "outputs": []
    },
    {
      "cell_type": "code",
      "source": [
        "from pyspark.ml.recommendation import ALS\n",
        "als = ALS(rank = 5,\n",
        "          maxIter = 5,\n",
        "          userCol=\"user\", \n",
        "          itemCol=\"item\", \n",
        "          ratingCol=\"rating\",\n",
        "          numUserBlocks = 60,\n",
        "          regParam = 0.01)\n",
        "model = als.fit(train_data)"
      ],
      "metadata": {
        "id": "YddqVSZxU3h8"
      },
      "execution_count": null,
      "outputs": []
    },
    {
      "cell_type": "code",
      "source": [
        "predictions = model.transform(test_data)\n",
        "evaluator = RegressionEvaluator(metricName=\"mse\", labelCol=\"rating\",\n",
        "                                predictionCol=\"prediction\")\n",
        "mse = evaluator.evaluate(predictions)\n",
        "print(\"MSE = \",mse)"
      ],
      "metadata": {
        "colab": {
          "base_uri": "https://localhost:8080/"
        },
        "id": "jvA_QBDXVOhz",
        "outputId": "004294e1-94e2-4ec5-8e8c-0db5e40b2238"
      },
      "execution_count": null,
      "outputs": [
        {
          "output_type": "stream",
          "name": "stdout",
          "text": [
            "MSE =  0.09646192568250929\n"
          ]
        }
      ]
    },
    {
      "cell_type": "code",
      "source": [
        "predictions.show()"
      ],
      "metadata": {
        "colab": {
          "base_uri": "https://localhost:8080/"
        },
        "id": "lzFSxUBRVbDZ",
        "outputId": "c803239f-8145-4123-d05f-a1e0eabb43df"
      },
      "execution_count": null,
      "outputs": [
        {
          "output_type": "stream",
          "name": "stdout",
          "text": [
            "+-----+----+----+------+----------+\n",
            "|index|user|item|rating|prediction|\n",
            "+-----+----+----+------+----------+\n",
            "| 2208|  72| 451|   4.0| 4.0065737|\n",
            "| 1898|  72| 436|   4.0| 3.8972464|\n",
            "|  843|  72| 406|   2.0| 2.7049277|\n",
            "| 1585|  72| 412|   3.0| 2.7101414|\n",
            "| 1208|  73| 412|   3.0| 3.0890405|\n",
            "|  324|  72| 460|   3.0|   3.00493|\n",
            "| 1788|  72| 417|   2.0|  1.837924|\n",
            "|  299|  73| 417|   3.0| 3.0867054|\n",
            "|  157|  72| 444|   3.0|  3.223478|\n",
            "|   41|  72| 435|   4.0| 3.8670328|\n",
            "|  694|  72| 440|   3.0| 4.2921796|\n",
            "| 1228|  72| 432|   5.0| 4.4767704|\n",
            "| 2043|  72| 452|   4.0|  4.050189|\n",
            "| 2132|  72| 425|   3.0|   3.10914|\n",
            "|  200|  72| 447|   4.0| 4.0065737|\n",
            "| 1897|  72| 462|   4.0| 3.8262565|\n",
            "| 1035|  72| 437|   5.0|  4.826022|\n",
            "| 1701|  72| 456|   5.0| 4.3451123|\n",
            "|  797|  72| 446|   2.0| 2.1292784|\n",
            "| 1587|  72| 453|   4.0| 4.0065737|\n",
            "+-----+----+----+------+----------+\n",
            "only showing top 20 rows\n",
            "\n"
          ]
        }
      ]
    },
    {
      "cell_type": "code",
      "source": [
        "predictions.printSchema()\n",
        "print(\"Pearson Correlation: \",end=\"\")\n",
        "predictions.corr(\"rating\",\"prediction\")"
      ],
      "metadata": {
        "colab": {
          "base_uri": "https://localhost:8080/"
        },
        "id": "XOGXSjifVjbJ",
        "outputId": "5ce3d2ac-e441-479b-8fd6-b4f8e0d8d1c1"
      },
      "execution_count": null,
      "outputs": [
        {
          "output_type": "stream",
          "name": "stdout",
          "text": [
            "root\n",
            " |-- index: integer (nullable = true)\n",
            " |-- user: integer (nullable = true)\n",
            " |-- item: integer (nullable = true)\n",
            " |-- rating: double (nullable = true)\n",
            " |-- prediction: float (nullable = false)\n",
            "\n",
            "Pearson Correlation: "
          ]
        },
        {
          "output_type": "execute_result",
          "data": {
            "text/plain": [
              "0.9584556304650566"
            ]
          },
          "metadata": {},
          "execution_count": 13
        }
      ]
    },
    {
      "cell_type": "markdown",
      "source": [
        "# **Câu 4: Dự đoán giá chứng khoán.**"
      ],
      "metadata": {
        "id": "3R-18UqoVyGU"
      }
    },
    {
      "cell_type": "code",
      "source": [
        "data = sqlc.read.option(\"header\", True) \\\n",
        "                .option(\"inferSchema\", True) \\\n",
        "                .csv(\"/content/drive/MyDrive/BigData/data/stockHVN2022.csv\")"
      ],
      "metadata": {
        "id": "I2WVLp8wVzQx"
      },
      "execution_count": null,
      "outputs": []
    },
    {
      "cell_type": "code",
      "source": [
        "data.show()"
      ],
      "metadata": {
        "colab": {
          "base_uri": "https://localhost:8080/"
        },
        "id": "RHYJyLzDXSO8",
        "outputId": "46572d6c-2eaf-4acc-b6c1-0875bb2002a1"
      },
      "execution_count": null,
      "outputs": [
        {
          "output_type": "stream",
          "name": "stdout",
          "text": [
            "+----------+-----+\n",
            "|      Ngay|  HVN|\n",
            "+----------+-----+\n",
            "|18/11/2022|  9.3|\n",
            "|17/11/2022| 9.42|\n",
            "|16/11/2022| 9.21|\n",
            "|15/11/2022| 8.61|\n",
            "|14/11/2022| 9.25|\n",
            "|11/11/2022|  9.9|\n",
            "|10/11/2022| 9.76|\n",
            "|09/11/2022| 10.4|\n",
            "|08/11/2022|10.25|\n",
            "|07/11/2022| 10.1|\n",
            "|04/11/2022| 10.7|\n",
            "|03/11/2022|10.85|\n",
            "|02/11/2022| 10.9|\n",
            "|01/11/2022| 10.9|\n",
            "|31/10/2022| 10.8|\n",
            "|28/10/2022|10.75|\n",
            "|27/10/2022|10.85|\n",
            "|26/10/2022|10.55|\n",
            "|25/10/2022|10.55|\n",
            "|24/10/2022|10.55|\n",
            "+----------+-----+\n",
            "only showing top 20 rows\n",
            "\n"
          ]
        }
      ]
    },
    {
      "cell_type": "code",
      "source": [
        "from pyspark.sql.functions import split\n",
        "\n",
        "rdd_stock = data.select(split(data.Ngay, '/').getItem(1).alias(\"month\"), data.HVN) \\\n",
        "                .rdd \\\n",
        "                .sortBy(lambda x: x[0]) \\\n",
        "                .collect()"
      ],
      "metadata": {
        "id": "2g-vvHmAXUGW"
      },
      "execution_count": null,
      "outputs": []
    },
    {
      "cell_type": "code",
      "source": [
        "def pivot_list(arr):\n",
        "    rs = []\n",
        "    for i in range(len(arr) - 5):\n",
        "        tempL = arr[i:i+5]\n",
        "        tempR = arr[i+5]\n",
        "        rs.append((tempL, tempR))\n",
        "    return rs"
      ],
      "metadata": {
        "id": "ks0CqzKxXkMF"
      },
      "execution_count": null,
      "outputs": []
    },
    {
      "cell_type": "code",
      "source": [
        "temp_1 = [rdd_stock[i][1] for i in range(len(rdd_stock)) if rdd_stock[i][0] <= '08']\n",
        "temp_2 = [rdd_stock[i][1] for i in range(len(rdd_stock)) if rdd_stock[i][0] > '08']\n",
        "training = pivot_list(temp_1)\n",
        "testing = pivot_list(temp_2)"
      ],
      "metadata": {
        "id": "d7wn9oqkXuJJ"
      },
      "execution_count": null,
      "outputs": []
    },
    {
      "cell_type": "code",
      "source": [
        "from pyspark.ml.linalg import Vectors, VectorUDT\n",
        "from pyspark.sql.functions import udf\n",
        "from pyspark.ml.feature import VectorAssembler\n",
        "\n",
        "# định nghĩa một UDF để chuyển đổi từ array float sang 1 dense vector\n",
        "to_dense_vector_udf = udf(lambda arr: Vectors.dense(arr), VectorUDT())\n",
        "\n",
        "df_training = sqlc.createDataFrame(training, ['features', 'label'])\n",
        "df_testing = sqlc.createDataFrame(testing, ['features', 'label'])\n",
        "\n",
        "# sử dụng UDF cho cột features để chuyển đổ sang dense vector\n",
        "df_training = df_training.withColumn(\"features\", to_dense_vector_udf(df_training[\"features\"]))\n",
        "df_testing = df_testing.withColumn(\"features\", to_dense_vector_udf(df_testing[\"features\"]))\n",
        "\n",
        "assembler = VectorAssembler(inputCols=[\"features\"], outputCol=\"features_vector\")\n",
        "df_training = assembler.transform(df_training).select(\"features_vector\", \"label\")\n",
        "df_testing = assembler.transform(df_testing).select(\"features_vector\", \"label\")"
      ],
      "metadata": {
        "id": "pQq3mRQ-YJmX"
      },
      "execution_count": null,
      "outputs": []
    },
    {
      "cell_type": "code",
      "source": [
        "df_training.show()\n",
        "df_training.printSchema()"
      ],
      "metadata": {
        "colab": {
          "base_uri": "https://localhost:8080/"
        },
        "id": "pbTpDBAqaz_r",
        "outputId": "b2c5fdce-968b-44d2-8350-7b2a6ebc8e84"
      },
      "execution_count": null,
      "outputs": [
        {
          "output_type": "stream",
          "name": "stdout",
          "text": [
            "+--------------------+-----+\n",
            "|     features_vector|label|\n",
            "+--------------------+-----+\n",
            "|[24.3,24.0,24.1,2...| 22.7|\n",
            "|[24.0,24.1,23.35,...|22.75|\n",
            "|[24.1,23.35,22.8,...| 22.7|\n",
            "|[23.35,22.8,22.7,...|22.95|\n",
            "|[22.8,22.7,22.75,...| 22.9|\n",
            "|[22.7,22.75,22.7,...| 22.7|\n",
            "|[22.75,22.7,22.95...|22.65|\n",
            "|[22.7,22.95,22.9,...|22.95|\n",
            "|[22.95,22.9,22.7,...|23.05|\n",
            "|[22.9,22.7,22.65,...| 23.2|\n",
            "|[22.7,22.65,22.95...|22.65|\n",
            "|[22.65,22.95,23.0...|22.85|\n",
            "|[22.95,23.05,23.2...| 23.1|\n",
            "|[23.05,23.2,22.65...| 23.3|\n",
            "|[23.2,22.65,22.85...|25.35|\n",
            "|[22.65,22.85,23.1...| 25.9|\n",
            "|[22.85,23.1,23.3,...|25.65|\n",
            "|[23.1,23.3,25.35,...|26.25|\n",
            "|[23.3,25.35,25.9,...| 26.1|\n",
            "|[25.35,25.9,25.65...| 26.8|\n",
            "+--------------------+-----+\n",
            "only showing top 20 rows\n",
            "\n",
            "root\n",
            " |-- features_vector: vector (nullable = true)\n",
            " |-- label: double (nullable = true)\n",
            "\n"
          ]
        }
      ]
    },
    {
      "cell_type": "code",
      "source": [
        "df_testing.show()\n",
        "df_testing.printSchema()"
      ],
      "metadata": {
        "colab": {
          "base_uri": "https://localhost:8080/"
        },
        "id": "yyXWWHsta6m2",
        "outputId": "04885a45-ca19-48b8-de7c-5547b03b114d"
      },
      "execution_count": null,
      "outputs": [
        {
          "output_type": "stream",
          "name": "stdout",
          "text": [
            "+--------------------+-----+\n",
            "|     features_vector|label|\n",
            "+--------------------+-----+\n",
            "|[13.35,13.6,13.65...| 14.6|\n",
            "|[13.6,13.65,14.05...| 14.8|\n",
            "|[13.65,14.05,14.2...|14.65|\n",
            "|[14.05,14.25,14.6...|14.95|\n",
            "|[14.25,14.6,14.8,...|14.55|\n",
            "|[14.6,14.8,14.65,...|14.85|\n",
            "|[14.8,14.65,14.95...|15.15|\n",
            "|[14.65,14.95,14.5...|14.75|\n",
            "|[14.95,14.55,14.8...| 14.8|\n",
            "|[14.55,14.85,15.1...|14.65|\n",
            "|[14.85,15.15,14.7...|14.85|\n",
            "|[15.15,14.75,14.8...|15.15|\n",
            "|[14.75,14.8,14.65...|16.25|\n",
            "|[14.8,14.65,14.85...|16.85|\n",
            "|[14.65,14.85,15.1...| 17.0|\n",
            "|[14.85,15.15,16.2...| 10.8|\n",
            "|[15.15,16.25,16.8...|10.75|\n",
            "|[16.25,16.85,17.0...|10.85|\n",
            "|[16.85,17.0,10.8,...|10.55|\n",
            "|[17.0,10.8,10.75,...|10.55|\n",
            "+--------------------+-----+\n",
            "only showing top 20 rows\n",
            "\n",
            "root\n",
            " |-- features_vector: vector (nullable = true)\n",
            " |-- label: double (nullable = true)\n",
            "\n"
          ]
        }
      ]
    },
    {
      "cell_type": "code",
      "source": [
        "from pyspark.ml.regression import LinearRegression\n",
        "\n",
        "# Xây dựng mô hình Linear Regression\n",
        "lr = LinearRegression(featuresCol='features_vector', labelCol='label', maxIter = 10, regParam = 0.3, elasticNetParam = 0.8)\n",
        "lrModel = lr.fit(df_training)"
      ],
      "metadata": {
        "id": "b_DEKoF6a9yU"
      },
      "execution_count": null,
      "outputs": []
    },
    {
      "cell_type": "code",
      "source": [
        "# Lưu mô hình xuống tập tin\n",
        "lrModel.write().overwrite().save('/content/drive/MyDrive/BigData/linreg_model')"
      ],
      "metadata": {
        "id": "P-lnB5kIbii1"
      },
      "execution_count": null,
      "outputs": []
    },
    {
      "cell_type": "code",
      "source": [
        "# Đọc mô hình từ tập tin\n",
        "from pyspark.ml.regression import LinearRegressionModel\n",
        "\n",
        "loaded_model = LinearRegressionModel.load(\"/content/drive/MyDrive/BigData/linreg_model\")"
      ],
      "metadata": {
        "id": "1YQA1UaocPLB"
      },
      "execution_count": null,
      "outputs": []
    },
    {
      "cell_type": "code",
      "source": [
        "# Dự đoán kết quả đối với tập train\n",
        "pred_results_train = loaded_model.evaluate(df_training)\n",
        "pred_results_train.predictions.show()"
      ],
      "metadata": {
        "colab": {
          "base_uri": "https://localhost:8080/"
        },
        "id": "wuOKK50der_M",
        "outputId": "3a493e80-b015-4b65-b728-fc46a027511a"
      },
      "execution_count": null,
      "outputs": [
        {
          "output_type": "stream",
          "name": "stdout",
          "text": [
            "+--------------------+-----+------------------+\n",
            "|     features_vector|label|        prediction|\n",
            "+--------------------+-----+------------------+\n",
            "|[24.3,24.0,24.1,2...| 22.7| 22.78503637901166|\n",
            "|[24.0,24.1,23.35,...|22.75|22.525248799412786|\n",
            "|[24.1,23.35,22.8,...| 22.7|22.479104805032346|\n",
            "|[23.35,22.8,22.7,...|22.95| 22.45424213888017|\n",
            "|[22.8,22.7,22.75,...| 22.9| 22.58730056292722|\n",
            "|[22.7,22.75,22.7,...| 22.7| 22.61631111282257|\n",
            "|[22.75,22.7,22.95...|22.65| 22.51382650308939|\n",
            "|[22.7,22.95,22.9,...|22.95| 22.43177614449911|\n",
            "|[22.95,22.9,22.7,...|23.05|22.570447649708235|\n",
            "|[22.9,22.7,22.65,...| 23.2|22.696329728174693|\n",
            "|[22.7,22.65,22.95...|22.65|22.832618231345464|\n",
            "|[22.65,22.95,23.0...|22.85|22.568715590755996|\n",
            "|[22.95,23.05,23.2...| 23.1|22.559221487384093|\n",
            "|[23.05,23.2,22.65...| 23.3| 22.69982666883175|\n",
            "|[23.2,22.65,22.85...|25.35|22.892286992821546|\n",
            "|[22.65,22.85,23.1...| 25.9|24.119474302226482|\n",
            "|[22.85,23.1,23.3,...|25.65|24.953418257958056|\n",
            "|[23.1,23.3,25.35,...|26.25|25.133298958937203|\n",
            "|[23.3,25.35,25.9,...| 26.1|  25.4593650997735|\n",
            "|[25.35,25.9,25.65...| 26.8| 25.50035082207873|\n",
            "+--------------------+-----+------------------+\n",
            "only showing top 20 rows\n",
            "\n"
          ]
        }
      ]
    },
    {
      "cell_type": "code",
      "source": [
        "# Dự đoán kết quả đối với tập test\n",
        "pred_results_test = loaded_model.evaluate(df_testing)\n",
        "pred_results_test.predictions.show()"
      ],
      "metadata": {
        "colab": {
          "base_uri": "https://localhost:8080/"
        },
        "id": "w126-JW4gU2g",
        "outputId": "93a3d7aa-a090-4d09-f216-09ae496f3414"
      },
      "execution_count": null,
      "outputs": [
        {
          "output_type": "stream",
          "name": "stdout",
          "text": [
            "+--------------------+-----+------------------+\n",
            "|     features_vector|label|        prediction|\n",
            "+--------------------+-----+------------------+\n",
            "|[13.35,13.6,13.65...| 14.6|14.728308463118806|\n",
            "|[13.6,13.65,14.05...| 14.8|15.011011362898554|\n",
            "|[13.65,14.05,14.2...|14.65|15.228151888774045|\n",
            "|[14.05,14.25,14.6...|14.95|15.224570550850132|\n",
            "|[14.25,14.6,14.8,...|14.55|15.374664352382649|\n",
            "|[14.6,14.8,14.65,...|14.85|15.209749380869303|\n",
            "|[14.8,14.65,14.95...|15.15|15.307168302239857|\n",
            "|[14.65,14.95,14.5...|14.75|15.514169264944371|\n",
            "|[14.95,14.55,14.8...| 14.8|15.389869603916251|\n",
            "|[14.55,14.85,15.1...|14.65| 15.34640281257304|\n",
            "|[14.85,15.15,14.7...|14.85| 15.23810898767854|\n",
            "|[15.15,14.75,14.8...|15.15|15.318310067297144|\n",
            "|[14.75,14.8,14.65...|16.25|15.523194889496644|\n",
            "|[14.8,14.65,14.85...|16.85|16.235183880198836|\n",
            "|[14.65,14.85,15.1...| 17.0|16.871868685111334|\n",
            "|[14.85,15.15,16.2...| 10.8| 17.20376319412876|\n",
            "|[15.15,16.25,16.8...|10.75|13.800971568969587|\n",
            "|[16.25,16.85,17.0...|10.85|12.256160346342142|\n",
            "|[16.85,17.0,10.8,...|10.55|11.740585808243909|\n",
            "|[17.0,10.8,10.75,...|10.55|11.591690342596952|\n",
            "+--------------------+-----+------------------+\n",
            "only showing top 20 rows\n",
            "\n"
          ]
        }
      ]
    },
    {
      "cell_type": "code",
      "source": [
        "# Tính độ đo MSE cho tập train và test\n",
        "train_mse = pred_results_train.meanSquaredError\n",
        "test_mse = pred_results_test.meanSquaredError\n",
        "print(\"Mean squared error of train data\", train_mse)\n",
        "print(\"Mean squared error of test data\", test_mse)"
      ],
      "metadata": {
        "colab": {
          "base_uri": "https://localhost:8080/"
        },
        "id": "rkhLrcaAgZgX",
        "outputId": "2a2fdb6e-4560-49f6-ee3a-cd27d5fa1dbc"
      },
      "execution_count": null,
      "outputs": [
        {
          "output_type": "stream",
          "name": "stdout",
          "text": [
            "Mean squared error of train data 1.0539797517581313\n",
            "Mean squared error of test data 1.9755975428083403\n"
          ]
        }
      ]
    },
    {
      "cell_type": "code",
      "source": [
        "import matplotlib.pyplot as plt\n",
        "\n",
        "# Vẽ biểu đồ cột thể hiện giá trị Mean Square Error trên tập huấn luyện và tập kiểm tra\n",
        "x = [\"Train\", \"Test\"]\n",
        "y = [train_mse, test_mse]\n",
        "\n",
        "plt.bar(x, y)\n",
        "plt.ylabel(\"Mean Square Error\")\n",
        "plt.show()"
      ],
      "metadata": {
        "colab": {
          "base_uri": "https://localhost:8080/",
          "height": 430
        },
        "id": "De4vzFd0gdLS",
        "outputId": "6d6b639c-4b51-4b75-e1c7-7a6c8b2d5d3d"
      },
      "execution_count": null,
      "outputs": [
        {
          "output_type": "display_data",
          "data": {
            "text/plain": [
              "<Figure size 640x480 with 1 Axes>"
            ],
            "image/png": "[encoded data removed]"
          },
          "metadata": {}
        }
      ]
    },
    {
      "cell_type": "markdown",
      "source": [
        "# **Câu 5: Phân loại đa lớp với pyspark**"
      ],
      "metadata": {
        "id": "tF44Q723dRoS"
      }
    },
    {
      "cell_type": "markdown",
      "source": [
        "## Sử dụng tập train, test ban đầu"
      ],
      "metadata": {
        "id": "sr8oRUYMihLj"
      }
    },
    {
      "cell_type": "code",
      "source": [
        "from pyspark.ml.linalg import Vectors as ml_vectors\n",
        "import numpy as np\n",
        "def f(x):\n",
        "  k = x.split(',')\n",
        "  return int(k[0]), ml_vectors.dense(np.array(k[1:]).astype(int))"
      ],
      "metadata": {
        "id": "D--z2zaqipzq"
      },
      "execution_count": null,
      "outputs": []
    },
    {
      "cell_type": "code",
      "source": [
        "train_data = sc.textFile(\"/content/drive/MyDrive/BigData/Final/datasets/mnist_small_train.csv\").map(f).toDF(['label', 'features'])\n",
        "test_data = sc.textFile(\"/content/drive/MyDrive/BigData/Final/datasets/mnist_small_test.csv\").map(f).toDF(['label', 'features'])"
      ],
      "metadata": {
        "id": "n2p_Bld9jHcY"
      },
      "execution_count": null,
      "outputs": []
    },
    {
      "cell_type": "code",
      "source": [
        "train_set, val_data = train_data.randomSplit([0.8, 0.2], seed=42)"
      ],
      "metadata": {
        "id": "Mj6f6X7-2ukf"
      },
      "execution_count": null,
      "outputs": []
    },
    {
      "cell_type": "markdown",
      "source": [
        "### MLP"
      ],
      "metadata": {
        "id": "oB7C0Z3HLdOd"
      }
    },
    {
      "cell_type": "code",
      "source": [
        "from pyspark.ml.classification import MultilayerPerceptronClassifier\n",
        "from pyspark.ml.evaluation import MulticlassClassificationEvaluator\n",
        "\n",
        "layers = [784, 256, 128, 10]\n",
        "mlp = MultilayerPerceptronClassifier(maxIter=100, layers=layers, blockSize=128, seed=42)"
      ],
      "metadata": {
        "id": "OQ9BsgiQlhfw"
      },
      "execution_count": null,
      "outputs": []
    },
    {
      "cell_type": "code",
      "source": [
        "model_mlp = mlp.fit(train_set)"
      ],
      "metadata": {
        "id": "RkikT4Tl2-ZG"
      },
      "execution_count": null,
      "outputs": []
    },
    {
      "cell_type": "code",
      "source": [
        "# tính accuracy trên val_data\n",
        "result = model_mlp.transform(val_data)\n",
        "predictionAndLabels = result.select(\"prediction\", \"label\")\n",
        "evaluator_val_mlp = MulticlassClassificationEvaluator(metricName=\"accuracy\")\n",
        "accuracy_val_mlp = evaluator_val_mlp.evaluate(predictionAndLabels)\n",
        "print(\"MLP Validation set accuracy = \" + str(accuracy_val_mlp))"
      ],
      "metadata": {
        "colab": {
          "base_uri": "https://localhost:8080/"
        },
        "id": "U913tpmq28bt",
        "outputId": "485a0b0f-e31f-42ee-f725-0c20c1c32d85"
      },
      "execution_count": null,
      "outputs": [
        {
          "output_type": "stream",
          "name": "stdout",
          "text": [
            "MLP Validation set accuracy = 0.9214659685863874\n"
          ]
        }
      ]
    },
    {
      "cell_type": "code",
      "source": [
        "# Tính accuracy trên test_data\n",
        "result = model_mlp.transform(test_data)\n",
        "predictionAndLabels = result.select(\"prediction\", \"label\")\n",
        "evaluator_test_mlp = MulticlassClassificationEvaluator(metricName=\"accuracy\")\n",
        "accuracy_test_mlp = evaluator_test_mlp.evaluate(predictionAndLabels)\n",
        "print(\"MLP Test set accuracy = \" + str(accuracy_test_mlp))"
      ],
      "metadata": {
        "colab": {
          "base_uri": "https://localhost:8080/"
        },
        "id": "OdPnHH5elslw",
        "outputId": "6dd4eb78-de9c-4d9c-d1ec-ccd1e760fb96"
      },
      "execution_count": null,
      "outputs": [
        {
          "output_type": "stream",
          "name": "stdout",
          "text": [
            "MLP Test set accuracy = 0.9283333333333333\n"
          ]
        }
      ]
    },
    {
      "cell_type": "markdown",
      "source": [
        "### Random Forest"
      ],
      "metadata": {
        "id": "AbzGgzhqLg9Q"
      }
    },
    {
      "cell_type": "code",
      "source": [
        "from pyspark.ml.classification import RandomForestClassifier\n",
        "\n",
        "rf = RandomForestClassifier(labelCol='label', featuresCol='features', numTrees=50, seed=1234, maxDepth=10)"
      ],
      "metadata": {
        "id": "G7FzWTdvLn4B"
      },
      "execution_count": null,
      "outputs": []
    },
    {
      "cell_type": "code",
      "source": [
        "model_rf = rf.fit(train_set)"
      ],
      "metadata": {
        "id": "g7eVCY4cMvA_"
      },
      "execution_count": null,
      "outputs": []
    },
    {
      "cell_type": "code",
      "source": [
        "# tính accuracy trên val_data\n",
        "result = model_rf.transform(val_data)\n",
        "predictionAndLabels = result.select(\"prediction\", \"label\")\n",
        "evaluator_val_rf = MulticlassClassificationEvaluator(metricName=\"accuracy\")\n",
        "accuracy_val_rf = evaluator_val_rf.evaluate(predictionAndLabels)\n",
        "print(\"Random Forest Validation set accuracy = \" + str(accuracy_val_rf))"
      ],
      "metadata": {
        "colab": {
          "base_uri": "https://localhost:8080/"
        },
        "id": "aCPWHMcfM29M",
        "outputId": "cd2480c9-625f-4870-9b50-69d01ee09d01"
      },
      "execution_count": null,
      "outputs": [
        {
          "output_type": "stream",
          "name": "stdout",
          "text": [
            "Random Forest Validation set accuracy = 0.9334330590875094\n"
          ]
        }
      ]
    },
    {
      "cell_type": "code",
      "source": [
        "# Tính accuracy trên test_data\n",
        "result = model_rf.transform(test_data)\n",
        "predictionAndLabels = result.select(\"prediction\", \"label\")\n",
        "evaluator_test_rf = MulticlassClassificationEvaluator(metricName=\"accuracy\")\n",
        "accuracy_test_rf = evaluator_test_rf.evaluate(predictionAndLabels)\n",
        "print(\"Random Forest Test set accuracy = \" + str(accuracy_test_rf))"
      ],
      "metadata": {
        "colab": {
          "base_uri": "https://localhost:8080/"
        },
        "id": "w6WdqkcV47bx",
        "outputId": "ad248ce7-54e0-49de-cd69-fca2aadd5eda"
      },
      "execution_count": null,
      "outputs": [
        {
          "output_type": "stream",
          "name": "stdout",
          "text": [
            "Random Forest Test set accuracy = 0.95\n"
          ]
        }
      ]
    },
    {
      "cell_type": "markdown",
      "source": [
        "### Linear Support Vector Machine"
      ],
      "metadata": {
        "id": "srgnWGGXNId2"
      }
    },
    {
      "cell_type": "markdown",
      "source": [
        "#### LSVC phân biệt số 0"
      ],
      "metadata": {
        "id": "0WyPAyavKWAt"
      }
    },
    {
      "cell_type": "code",
      "source": [
        "from pyspark.sql.functions import when, col\n",
        "# label khác 0 thì thay = 1, 0 thì giữ nguyên 0 (otherwise(0))\n",
        "test_data_0 = test_data.withColumn(\"label\", when(col(\"label\") != 0, 1).otherwise(0))\n",
        "train_set_0 = train_set.withColumn(\"label\", when(col(\"label\") != 0, 1).otherwise(0))\n",
        "val_data_0 = val_data.withColumn(\"label\", when(col(\"label\") != 0, 1).otherwise(0))"
      ],
      "metadata": {
        "id": "hnppKRHV2Ojz"
      },
      "execution_count": null,
      "outputs": []
    },
    {
      "cell_type": "code",
      "source": [
        "from pyspark.ml.classification import LinearSVC\n",
        "\n",
        "# Load training data\n",
        "lsvc = LinearSVC(maxIter=100, regParam=0.1)\n",
        "\n",
        "# Fit the model\n",
        "model_lsvc_0 = lsvc.fit(train_set_0)"
      ],
      "metadata": {
        "id": "hfyH5D2Z5LP1"
      },
      "execution_count": null,
      "outputs": []
    },
    {
      "cell_type": "code",
      "source": [
        "# tính accuracy trên val_data\n",
        "result = model_lsvc_0.transform(val_data_0)\n",
        "predictionAndLabels = result.select(\"prediction\", \"label\")\n",
        "evaluator_val_lsvc_0 = MulticlassClassificationEvaluator(metricName=\"accuracy\")\n",
        "accuracy_val_lsvc_0 = evaluator_val_lsvc_0.evaluate(predictionAndLabels)\n",
        "print(\"Linear Support Vector Machine Validation set accuracy prediction 0 = \" + str(accuracy_val_lsvc_0))"
      ],
      "metadata": {
        "colab": {
          "base_uri": "https://localhost:8080/"
        },
        "id": "x6rPOudC5ccW",
        "outputId": "9f32fc92-dc84-42b9-86b8-c3788001b33a"
      },
      "execution_count": null,
      "outputs": [
        {
          "output_type": "stream",
          "name": "stdout",
          "text": [
            "Linear Support Vector Machine Validation set accuracy prediction 0 = 0.9895287958115183\n"
          ]
        }
      ]
    },
    {
      "cell_type": "code",
      "source": [
        "# Tính accuracy trên test_data\n",
        "result = model_lsvc_0.transform(test_data_0)\n",
        "predictionAndLabels = result.select(\"prediction\", \"label\")\n",
        "evaluator_test_lsvc_0 = MulticlassClassificationEvaluator(metricName=\"accuracy\")\n",
        "accuracy_test_lsvc_0 = evaluator_test_lsvc_0.evaluate(predictionAndLabels)\n",
        "print(\"Linear Support Vector Machine Test set accuracy prediction 0 = \" + str(accuracy_test_lsvc_0))"
      ],
      "metadata": {
        "colab": {
          "base_uri": "https://localhost:8080/"
        },
        "id": "vUIqYe3z5d_N",
        "outputId": "1875ec1c-4f95-4840-9429-bb2e3d1ac61b"
      },
      "execution_count": null,
      "outputs": [
        {
          "output_type": "stream",
          "name": "stdout",
          "text": [
            "Linear Support Vector Machine Test set accuracy prediction 0 = 0.992\n"
          ]
        }
      ]
    },
    {
      "cell_type": "markdown",
      "source": [
        "#### LSVC phân biệt số 1"
      ],
      "metadata": {
        "id": "FkfFDDlZ5eb5"
      }
    },
    {
      "cell_type": "code",
      "source": [
        "test_data_1 = test_data.withColumn(\"label\", when(col(\"label\") != 1, 0).otherwise(1))\n",
        "train_set_1 = train_set.withColumn(\"label\", when(col(\"label\") != 1, 0).otherwise(1))\n",
        "val_data_1 = val_data.withColumn(\"label\", when(col(\"label\") != 1, 0).otherwise(1))"
      ],
      "metadata": {
        "id": "LhJklBBgKxHZ"
      },
      "execution_count": null,
      "outputs": []
    },
    {
      "cell_type": "code",
      "source": [
        "# Load training data\n",
        "lsvc = LinearSVC(maxIter=100, regParam=0.1)\n",
        "\n",
        "# Fit the model\n",
        "model_lsvc_1 = lsvc.fit(train_set_1)"
      ],
      "metadata": {
        "id": "mQ0z_njKMLRL"
      },
      "execution_count": null,
      "outputs": []
    },
    {
      "cell_type": "code",
      "source": [
        "# tính accuracy trên val_data\n",
        "result = model_lsvc_1.transform(val_data_1)\n",
        "predictionAndLabels = result.select(\"prediction\", \"label\")\n",
        "evaluator_val_lsvc_1 = MulticlassClassificationEvaluator(metricName=\"accuracy\")\n",
        "accuracy_val_lsvc_1 = evaluator_val_lsvc_1.evaluate(predictionAndLabels)\n",
        "print(\"Linear Support Vector Machine Validation set accuracy prediction 1 = \" + str(accuracy_val_lsvc_1))"
      ],
      "metadata": {
        "colab": {
          "base_uri": "https://localhost:8080/"
        },
        "id": "gwAzebasMSkI",
        "outputId": "0ef17d83-6deb-4684-9e02-c94a651d1b28"
      },
      "execution_count": null,
      "outputs": [
        {
          "output_type": "stream",
          "name": "stdout",
          "text": [
            "Linear Support Vector Machine Validation set accuracy prediction 1 = 0.9902767389678384\n"
          ]
        }
      ]
    },
    {
      "cell_type": "code",
      "source": [
        "# Tính accuracy trên test_data\n",
        "result = model_lsvc_1.transform(test_data_1)\n",
        "predictionAndLabels = result.select(\"prediction\", \"label\")\n",
        "evaluator_test_lsvc_1 = MulticlassClassificationEvaluator(metricName=\"accuracy\")\n",
        "accuracy_test_lsvc_1 = evaluator_test_lsvc_1.evaluate(predictionAndLabels)\n",
        "print(\"Linear Support Vector Machine Test set accuracy prediction 1 = \" + str(accuracy_test_lsvc_1))"
      ],
      "metadata": {
        "colab": {
          "base_uri": "https://localhost:8080/"
        },
        "id": "nzaBhVdHMS7N",
        "outputId": "3b2e8063-d456-491e-e081-39d546a596ad"
      },
      "execution_count": null,
      "outputs": [
        {
          "output_type": "stream",
          "name": "stdout",
          "text": [
            "Linear Support Vector Machine Test set accuracy prediction 1 = 0.993\n"
          ]
        }
      ]
    },
    {
      "cell_type": "markdown",
      "source": [
        "#### LSVC phân biệt số 2"
      ],
      "metadata": {
        "id": "d4HD-UT2axoo"
      }
    },
    {
      "cell_type": "code",
      "source": [
        "test_data_2 = test_data.withColumn(\"label\", when(col(\"label\") != 2, 0).otherwise(1))\n",
        "train_set_2 = train_set.withColumn(\"label\", when(col(\"label\") != 2, 0).otherwise(1))\n",
        "val_data_2 = val_data.withColumn(\"label\", when(col(\"label\") != 2, 0).otherwise(1))"
      ],
      "metadata": {
        "id": "2ERnVXDhayD6"
      },
      "execution_count": null,
      "outputs": []
    },
    {
      "cell_type": "code",
      "source": [
        "# Load training data\n",
        "lsvc = LinearSVC(maxIter=100, regParam=0.1)\n",
        "\n",
        "# Fit the model\n",
        "model_lsvc_2 = lsvc.fit(train_set_2)"
      ],
      "metadata": {
        "id": "pObInuzaaydT"
      },
      "execution_count": null,
      "outputs": []
    },
    {
      "cell_type": "code",
      "source": [
        "# tính accuracy trên val_data\n",
        "result = model_lsvc_2.transform(val_data_2)\n",
        "predictionAndLabels = result.select(\"prediction\", \"label\")\n",
        "evaluator_val_lsvc_2 = MulticlassClassificationEvaluator(metricName=\"accuracy\")\n",
        "accuracy_val_lsvc_2 = evaluator_val_lsvc_2.evaluate(predictionAndLabels)\n",
        "print(\"Linear Support Vector Machine Validation set accuracy prediction 2 = \" + str(accuracy_val_lsvc_2))"
      ],
      "metadata": {
        "colab": {
          "base_uri": "https://localhost:8080/"
        },
        "id": "LcyT787tayo2",
        "outputId": "69757379-c57a-4157-f069-84b276f464e5"
      },
      "execution_count": null,
      "outputs": [
        {
          "output_type": "stream",
          "name": "stdout",
          "text": [
            "Linear Support Vector Machine Validation set accuracy prediction 2 = 0.9730740463724757\n"
          ]
        }
      ]
    },
    {
      "cell_type": "code",
      "source": [
        "# Tính accuracy trên test_data\n",
        "result = model_lsvc_2.transform(test_data_2)\n",
        "predictionAndLabels = result.select(\"prediction\", \"label\")\n",
        "evaluator_test_lsvc_2 = MulticlassClassificationEvaluator(metricName=\"accuracy\")\n",
        "accuracy_test_lsvc_2 = evaluator_test_lsvc_2.evaluate(predictionAndLabels)\n",
        "print(\"Linear Support Vector Machine Test set accuracy prediction 2 = \" + str(accuracy_test_lsvc_2))"
      ],
      "metadata": {
        "colab": {
          "base_uri": "https://localhost:8080/"
        },
        "id": "rfAJtYe0aysQ",
        "outputId": "4c56efde-a981-4255-83fc-32ad3f78aba8"
      },
      "execution_count": null,
      "outputs": [
        {
          "output_type": "stream",
          "name": "stdout",
          "text": [
            "Linear Support Vector Machine Test set accuracy prediction 2 = 0.9726666666666667\n"
          ]
        }
      ]
    },
    {
      "cell_type": "markdown",
      "source": [
        "#### LSVC phân biệt số 3"
      ],
      "metadata": {
        "id": "z8todlm1ayx2"
      }
    },
    {
      "cell_type": "code",
      "source": [
        "test_data_3 = test_data.withColumn(\"label\", when(col(\"label\") != 3, 0).otherwise(1))\n",
        "train_set_3 = train_set.withColumn(\"label\", when(col(\"label\") != 3, 0).otherwise(1))\n",
        "val_data_3 = val_data.withColumn(\"label\", when(col(\"label\") != 3, 0).otherwise(1))"
      ],
      "metadata": {
        "id": "dvof0xeoay0a"
      },
      "execution_count": null,
      "outputs": []
    },
    {
      "cell_type": "code",
      "source": [
        "model_lsvc_3 = lsvc.fit(train_set_3)"
      ],
      "metadata": {
        "id": "FIc3EdXjay3Q"
      },
      "execution_count": null,
      "outputs": []
    },
    {
      "cell_type": "code",
      "source": [
        "# tính accuracy trên val_data\n",
        "result = model_lsvc_3.transform(val_data_3)\n",
        "predictionAndLabels = result.select(\"prediction\", \"label\")\n",
        "evaluator_val_lsvc_3 = MulticlassClassificationEvaluator(metricName=\"accuracy\")\n",
        "accuracy_val_lsvc_3 = evaluator_val_lsvc_3.evaluate(predictionAndLabels)\n",
        "print(\"Linear Support Vector Machine Validation set accuracy prediction 3 = \" + str(accuracy_val_lsvc_3))"
      ],
      "metadata": {
        "colab": {
          "base_uri": "https://localhost:8080/"
        },
        "id": "G77XTEboay8r",
        "outputId": "94d25a3f-0f81-4668-a63a-acf28f8dbaed"
      },
      "execution_count": null,
      "outputs": [
        {
          "output_type": "stream",
          "name": "stdout",
          "text": [
            "Linear Support Vector Machine Validation set accuracy prediction 3 = 0.9805534779356769\n"
          ]
        }
      ]
    },
    {
      "cell_type": "code",
      "source": [
        "# Tính accuracy trên test_data\n",
        "result = model_lsvc_3.transform(test_data_3)\n",
        "predictionAndLabels = result.select(\"prediction\", \"label\")\n",
        "evaluator_test_lsvc_3 = MulticlassClassificationEvaluator(metricName=\"accuracy\")\n",
        "accuracy_test_lsvc_3 = evaluator_test_lsvc_3.evaluate(predictionAndLabels)\n",
        "print(\"Linear Support Vector Machine Test set accuracy prediction 3 = \" + str(accuracy_test_lsvc_3))"
      ],
      "metadata": {
        "colab": {
          "base_uri": "https://localhost:8080/"
        },
        "id": "TRUdsozGbedR",
        "outputId": "51decee8-6832-47bf-de14-d62ef76ee717"
      },
      "execution_count": null,
      "outputs": [
        {
          "output_type": "stream",
          "name": "stdout",
          "text": [
            "Linear Support Vector Machine Test set accuracy prediction 3 = 0.9783333333333334\n"
          ]
        }
      ]
    },
    {
      "cell_type": "markdown",
      "source": [
        "#### LSVC phân biệt số 4"
      ],
      "metadata": {
        "id": "-QOZEexnMS_a"
      }
    },
    {
      "cell_type": "code",
      "source": [
        "test_data_4 = test_data.withColumn(\"label\", when(col(\"label\") != 4, 0).otherwise(1))\n",
        "train_set_4 = train_set.withColumn(\"label\", when(col(\"label\") != 4, 0).otherwise(1))\n",
        "val_data_4 = val_data.withColumn(\"label\", when(col(\"label\") != 4, 0).otherwise(1))"
      ],
      "metadata": {
        "id": "0cj-L8O7MTC1"
      },
      "execution_count": null,
      "outputs": []
    },
    {
      "cell_type": "code",
      "source": [
        "# Load training data\n",
        "lsvc = LinearSVC(maxIter=100, regParam=0.1)\n",
        "\n",
        "# Fit the model\n",
        "model_lsvc_4 = lsvc.fit(train_set_4)"
      ],
      "metadata": {
        "id": "hZNa-llaYfvS"
      },
      "execution_count": null,
      "outputs": []
    },
    {
      "cell_type": "code",
      "source": [
        "# tính accuracy trên val_data\n",
        "result = model_lsvc_4.transform(val_data_4)\n",
        "predictionAndLabels = result.select(\"prediction\", \"label\")\n",
        "evaluator_val_lsvc_4 = MulticlassClassificationEvaluator(metricName=\"accuracy\")\n",
        "accuracy_val_lsvc_4 = evaluator_val_lsvc_4.evaluate(predictionAndLabels)\n",
        "print(\"Linear Support Vector Machine Validation set accuracy prediction 4 = \" + str(accuracy_val_lsvc_4))"
      ],
      "metadata": {
        "colab": {
          "base_uri": "https://localhost:8080/"
        },
        "id": "yY4xwUxUMTGM",
        "outputId": "e156e89d-9631-4988-d89a-40fd07d2fdd9"
      },
      "execution_count": null,
      "outputs": [
        {
          "output_type": "stream",
          "name": "stdout",
          "text": [
            "Linear Support Vector Machine Validation set accuracy prediction 4 = 0.975317875841436\n"
          ]
        }
      ]
    },
    {
      "cell_type": "code",
      "source": [
        "# Tính accuracy trên test_data\n",
        "result = model_lsvc_4.transform(test_data_4)\n",
        "predictionAndLabels = result.select(\"prediction\", \"label\")\n",
        "evaluator_test_lsvc_4 = MulticlassClassificationEvaluator(metricName=\"accuracy\")\n",
        "accuracy_test_lsvc_4 = evaluator_test_lsvc_4.evaluate(predictionAndLabels)\n",
        "print(\"Linear Support Vector Machine Test set accuracy prediction 4 = \" + str(accuracy_test_lsvc_4))"
      ],
      "metadata": {
        "colab": {
          "base_uri": "https://localhost:8080/"
        },
        "id": "xa7_7EiNRDeH",
        "outputId": "d383489e-b2a0-4db6-ed62-31b99c40976b"
      },
      "execution_count": null,
      "outputs": [
        {
          "output_type": "stream",
          "name": "stdout",
          "text": [
            "Linear Support Vector Machine Test set accuracy prediction 4 = 0.9786666666666667\n"
          ]
        }
      ]
    },
    {
      "cell_type": "markdown",
      "source": [
        "#### LSVC phân biệt số 5"
      ],
      "metadata": {
        "id": "1Kms5rgqNfdb"
      }
    },
    {
      "cell_type": "code",
      "source": [
        "test_data_5 = test_data.withColumn(\"label\", when(col(\"label\") != 5, 0).otherwise(1))\n",
        "train_set_5 = train_set.withColumn(\"label\", when(col(\"label\") != 5, 0).otherwise(1))\n",
        "val_data_5 = val_data.withColumn(\"label\", when(col(\"label\") != 5, 0).otherwise(1))"
      ],
      "metadata": {
        "id": "UbnmK2dXNfhf"
      },
      "execution_count": null,
      "outputs": []
    },
    {
      "cell_type": "code",
      "source": [
        "model_lsvc_5 = lsvc.fit(train_set_5)"
      ],
      "metadata": {
        "id": "zjO-_VOkNfkp"
      },
      "execution_count": null,
      "outputs": []
    },
    {
      "cell_type": "code",
      "source": [
        "# tính accuracy trên val_data\n",
        "result = model_lsvc_5.transform(val_data_5)\n",
        "predictionAndLabels = result.select(\"prediction\", \"label\")\n",
        "evaluator_val_lsvc_5 = MulticlassClassificationEvaluator(metricName=\"accuracy\")\n",
        "accuracy_val_lsvc_5 = evaluator_val_lsvc_5.evaluate(predictionAndLabels)\n",
        "print(\"Linear Support Vector Machine Validation set accuracy prediction 5 = \" + str(accuracy_val_lsvc_5))"
      ],
      "metadata": {
        "colab": {
          "base_uri": "https://localhost:8080/"
        },
        "id": "mgezYWjJNfnX",
        "outputId": "5242bd1c-247e-426f-84cc-012d1105bfac"
      },
      "execution_count": null,
      "outputs": [
        {
          "output_type": "stream",
          "name": "stdout",
          "text": [
            "Linear Support Vector Machine Validation set accuracy prediction 5 = 0.9738219895287958\n"
          ]
        }
      ]
    },
    {
      "cell_type": "code",
      "source": [
        "# Tính accuracy trên test_data\n",
        "result = model_lsvc_5.transform(test_data_5)\n",
        "predictionAndLabels = result.select(\"prediction\", \"label\")\n",
        "evaluator_test_lsvc_5 = MulticlassClassificationEvaluator(metricName=\"accuracy\")\n",
        "accuracy_test_lsvc_5 = evaluator_test_lsvc_5.evaluate(predictionAndLabels)\n",
        "print(\"Linear Support Vector Machine Test set accuracy prediction 5 = \" + str(accuracy_test_lsvc_5))"
      ],
      "metadata": {
        "colab": {
          "base_uri": "https://localhost:8080/"
        },
        "id": "bTjupkldNfqE",
        "outputId": "5606be69-4a81-4755-abf8-0711cf0cc26c"
      },
      "execution_count": null,
      "outputs": [
        {
          "output_type": "stream",
          "name": "stdout",
          "text": [
            "Linear Support Vector Machine Test set accuracy prediction 5 = 0.9696666666666667\n"
          ]
        }
      ]
    },
    {
      "cell_type": "markdown",
      "source": [
        "#### LSVC phân biệt số 6"
      ],
      "metadata": {
        "id": "4zBZ8X9CNfsx"
      }
    },
    {
      "cell_type": "code",
      "source": [
        "test_data_6 = test_data.withColumn(\"label\", when(col(\"label\") != 6, 0).otherwise(1))\n",
        "train_set_6 = train_set.withColumn(\"label\", when(col(\"label\") != 6, 0).otherwise(1))\n",
        "val_data_6 = val_data.withColumn(\"label\", when(col(\"label\") != 6, 0).otherwise(1))"
      ],
      "metadata": {
        "id": "6QAs_BpQNfva"
      },
      "execution_count": null,
      "outputs": []
    },
    {
      "cell_type": "code",
      "source": [
        "model_lsvc_6 = lsvc.fit(train_set_6)"
      ],
      "metadata": {
        "id": "_IlzXQXHNfyR"
      },
      "execution_count": null,
      "outputs": []
    },
    {
      "cell_type": "code",
      "source": [
        "# tính accuracy trên val_data\n",
        "result = model_lsvc_6.transform(val_data_6)\n",
        "predictionAndLabels = result.select(\"prediction\", \"label\")\n",
        "evaluator_val_lsvc_6 = MulticlassClassificationEvaluator(metricName=\"accuracy\")\n",
        "accuracy_val_lsvc_6 = evaluator_val_lsvc_6.evaluate(predictionAndLabels)\n",
        "print(\"Linear Support Vector Machine Validation set accuracy prediction 6 = \" + str(accuracy_val_lsvc_6))"
      ],
      "metadata": {
        "colab": {
          "base_uri": "https://localhost:8080/"
        },
        "id": "J_4kUf9nNf0-",
        "outputId": "bc4ea878-ac38-40eb-ed5f-ffd33570d508"
      },
      "execution_count": null,
      "outputs": [
        {
          "output_type": "stream",
          "name": "stdout",
          "text": [
            "Linear Support Vector Machine Validation set accuracy prediction 6 = 0.9730740463724757\n"
          ]
        }
      ]
    },
    {
      "cell_type": "code",
      "source": [
        "# Tính accuracy trên test_data\n",
        "result = model_lsvc_6.transform(test_data_6)\n",
        "predictionAndLabels = result.select(\"prediction\", \"label\")\n",
        "evaluator_test_lsvc_6 = MulticlassClassificationEvaluator(metricName=\"accuracy\")\n",
        "accuracy_test_lsvc_6 = evaluator_test_lsvc_6.evaluate(predictionAndLabels)\n",
        "print(\"Linear Support Vector Machine Test set accuracy prediction 6 = \" + str(accuracy_test_lsvc_6))"
      ],
      "metadata": {
        "colab": {
          "base_uri": "https://localhost:8080/"
        },
        "id": "y11Dj076Nf3T",
        "outputId": "e0c5e528-b752-4b73-9e0a-70e900371912"
      },
      "execution_count": null,
      "outputs": [
        {
          "output_type": "stream",
          "name": "stdout",
          "text": [
            "Linear Support Vector Machine Test set accuracy prediction 6 = 0.9886666666666667\n"
          ]
        }
      ]
    },
    {
      "cell_type": "markdown",
      "source": [
        "#### LSVC phân biệt số 7"
      ],
      "metadata": {
        "id": "8du7i91mNf58"
      }
    },
    {
      "cell_type": "code",
      "source": [
        "test_data_7 = test_data.withColumn(\"label\", when(col(\"label\") != 7, 0).otherwise(1))\n",
        "train_set_7 = train_set.withColumn(\"label\", when(col(\"label\") != 7, 0).otherwise(1))\n",
        "val_data_7 = val_data.withColumn(\"label\", when(col(\"label\") != 7, 0).otherwise(1))"
      ],
      "metadata": {
        "id": "BrZ4kfA-ddnP"
      },
      "execution_count": null,
      "outputs": []
    },
    {
      "cell_type": "code",
      "source": [
        "model_lsvc_7 = lsvc.fit(train_set_7)"
      ],
      "metadata": {
        "id": "epLd6tERddrM"
      },
      "execution_count": null,
      "outputs": []
    },
    {
      "cell_type": "code",
      "source": [
        "# tính accuracy trên val_data\n",
        "result = model_lsvc_7.transform(val_data_7)\n",
        "predictionAndLabels = result.select(\"prediction\", \"label\")\n",
        "evaluator_val_lsvc_7 = MulticlassClassificationEvaluator(metricName=\"accuracy\")\n",
        "accuracy_val_lsvc_7 = evaluator_val_lsvc_7.evaluate(predictionAndLabels)\n",
        "print(\"Linear Support Vector Machine Validation set accuracy prediction 7 = \" + str(accuracy_val_lsvc_7))"
      ],
      "metadata": {
        "colab": {
          "base_uri": "https://localhost:8080/"
        },
        "id": "MA03QSjmddud",
        "outputId": "ddb9d0cf-b87e-402f-ff48-bace6397e58f"
      },
      "execution_count": null,
      "outputs": [
        {
          "output_type": "stream",
          "name": "stdout",
          "text": [
            "Linear Support Vector Machine Validation set accuracy prediction 7 = 0.9745699326851159\n"
          ]
        }
      ]
    },
    {
      "cell_type": "code",
      "source": [
        "# Tính accuracy trên test_data\n",
        "result = model_lsvc_7.transform(test_data_7)\n",
        "predictionAndLabels = result.select(\"prediction\", \"label\")\n",
        "evaluator_test_lsvc_7 = MulticlassClassificationEvaluator(metricName=\"accuracy\")\n",
        "accuracy_test_lsvc_7 = evaluator_test_lsvc_7.evaluate(predictionAndLabels)\n",
        "print(\"Linear Support Vector Machine Test set accuracy prediction 7 = \" + str(accuracy_test_lsvc_7))"
      ],
      "metadata": {
        "colab": {
          "base_uri": "https://localhost:8080/"
        },
        "id": "9o-7Y-9Cddxo",
        "outputId": "2914c5f7-8b81-43ec-ea82-a35ca84634fa"
      },
      "execution_count": null,
      "outputs": [
        {
          "output_type": "stream",
          "name": "stdout",
          "text": [
            "Linear Support Vector Machine Test set accuracy prediction 7 = 0.9923333333333333\n"
          ]
        }
      ]
    },
    {
      "cell_type": "markdown",
      "source": [
        "#### LSVC phân biệt số 8"
      ],
      "metadata": {
        "id": "E3Q17up0dd0m"
      }
    },
    {
      "cell_type": "code",
      "source": [
        "test_data_8 = test_data.withColumn(\"label\", when(col(\"label\") != 8, 0).otherwise(1))\n",
        "train_set_8 = train_set.withColumn(\"label\", when(col(\"label\") != 8, 0).otherwise(1))\n",
        "val_data_8 = val_data.withColumn(\"label\", when(col(\"label\") != 8, 0).otherwise(1))"
      ],
      "metadata": {
        "id": "vJJRrQCvdd3x"
      },
      "execution_count": null,
      "outputs": []
    },
    {
      "cell_type": "code",
      "source": [
        "model_lsvc_8 = lsvc.fit(train_set_8)"
      ],
      "metadata": {
        "id": "PeuAfgNzdd6-"
      },
      "execution_count": null,
      "outputs": []
    },
    {
      "cell_type": "code",
      "source": [
        "# tính accuracy trên val_data\n",
        "result = model_lsvc_8.transform(val_data_8)\n",
        "predictionAndLabels = result.select(\"prediction\", \"label\")\n",
        "evaluator_val_lsvc_8 = MulticlassClassificationEvaluator(metricName=\"accuracy\")\n",
        "accuracy_val_lsvc_8 = evaluator_val_lsvc_8.evaluate(predictionAndLabels)\n",
        "print(\"Linear Support Vector Machine Validation set accuracy prediction 8 = \" + str(accuracy_val_lsvc_8))"
      ],
      "metadata": {
        "colab": {
          "base_uri": "https://localhost:8080/"
        },
        "id": "Jw5KV6mjdd-F",
        "outputId": "a6d4b489-7d36-49bf-8da8-4c568fa2026a"
      },
      "execution_count": null,
      "outputs": [
        {
          "output_type": "stream",
          "name": "stdout",
          "text": [
            "Linear Support Vector Machine Validation set accuracy prediction 8 = 0.9648466716529543\n"
          ]
        }
      ]
    },
    {
      "cell_type": "code",
      "source": [
        "# Tính accuracy trên test_data\n",
        "result = model_lsvc_8.transform(test_data_8)\n",
        "predictionAndLabels = result.select(\"prediction\", \"label\")\n",
        "evaluator_test_lsvc_8 = MulticlassClassificationEvaluator(metricName=\"accuracy\")\n",
        "accuracy_test_lsvc_8 = evaluator_test_lsvc_8.evaluate(predictionAndLabels)\n",
        "print(\"Linear Support Vector Machine Test set accuracy prediction 8 = \" + str(accuracy_test_lsvc_8))"
      ],
      "metadata": {
        "colab": {
          "base_uri": "https://localhost:8080/"
        },
        "id": "7xgUKbe9deBj",
        "outputId": "06f2107a-5655-48f7-b84c-c720f3aa02ac"
      },
      "execution_count": null,
      "outputs": [
        {
          "output_type": "stream",
          "name": "stdout",
          "text": [
            "Linear Support Vector Machine Test set accuracy prediction 8 = 0.968\n"
          ]
        }
      ]
    },
    {
      "cell_type": "markdown",
      "source": [
        "#### LSVC phân biệt số 9"
      ],
      "metadata": {
        "id": "_z8wFncEeD_-"
      }
    },
    {
      "cell_type": "code",
      "source": [
        "test_data_9 = test_data.withColumn(\"label\", when(col(\"label\") != 9, 0).otherwise(1))\n",
        "train_set_9 = train_set.withColumn(\"label\", when(col(\"label\") != 9, 0).otherwise(1))\n",
        "val_data_9 = val_data.withColumn(\"label\", when(col(\"label\") != 9, 0).otherwise(1))"
      ],
      "metadata": {
        "id": "eSEKom2ieEIY"
      },
      "execution_count": null,
      "outputs": []
    },
    {
      "cell_type": "code",
      "source": [
        "model_lsvc_9 = lsvc.fit(train_set_9)"
      ],
      "metadata": {
        "id": "-djS_QDoeEOA"
      },
      "execution_count": null,
      "outputs": []
    },
    {
      "cell_type": "code",
      "source": [
        "# tính accuracy trên val_data\n",
        "result = model_lsvc_9.transform(val_data_9)\n",
        "predictionAndLabels = result.select(\"prediction\", \"label\")\n",
        "evaluator_val_lsvc_9 = MulticlassClassificationEvaluator(metricName=\"accuracy\")\n",
        "accuracy_val_lsvc_9 = evaluator_val_lsvc_9.evaluate(predictionAndLabels)\n",
        "print(\"Linear Support Vector Machine Validation set accuracy prediction 9 = \" + str(accuracy_val_lsvc_9))"
      ],
      "metadata": {
        "colab": {
          "base_uri": "https://localhost:8080/"
        },
        "id": "g_SZM8AkeERu",
        "outputId": "99db11bf-6188-40a1-a86e-9c52378553b2"
      },
      "execution_count": null,
      "outputs": [
        {
          "output_type": "stream",
          "name": "stdout",
          "text": [
            "Linear Support Vector Machine Validation set accuracy prediction 9 = 0.9573672400897532\n"
          ]
        }
      ]
    },
    {
      "cell_type": "code",
      "source": [
        "# Tính accuracy trên test_data\n",
        "result = model_lsvc_9.transform(test_data_9)\n",
        "predictionAndLabels = result.select(\"prediction\", \"label\")\n",
        "evaluator_test_lsvc_9 = MulticlassClassificationEvaluator(metricName=\"accuracy\")\n",
        "accuracy_test_lsvc_9 = evaluator_test_lsvc_9.evaluate(predictionAndLabels)\n",
        "print(\"Linear Support Vector Machine Test set accuracy prediction 9 = \" + str(accuracy_test_lsvc_9))"
      ],
      "metadata": {
        "colab": {
          "base_uri": "https://localhost:8080/"
        },
        "id": "cQ0CnkTLeEfh",
        "outputId": "44946907-fb5e-458a-de6d-d4a5e566a7c4"
      },
      "execution_count": null,
      "outputs": [
        {
          "output_type": "stream",
          "name": "stdout",
          "text": [
            "Linear Support Vector Machine Test set accuracy prediction 9 = 0.9626666666666667\n"
          ]
        }
      ]
    },
    {
      "cell_type": "code",
      "source": [
        "# trung bình cộng tất cả LSVC\n",
        "accuracy_val_lsvc_arr = []\n",
        "accuracy_test_lsvc_arr = []\n",
        "\n",
        "for i in range(10):\n",
        "  var_name_val = eval(f\"accuracy_val_lsvc_{i}\")\n",
        "  var_name_test = eval(f\"accuracy_test_lsvc_{i}\")\n",
        "  accuracy_val_lsvc_arr.append(var_name_val)\n",
        "  accuracy_test_lsvc_arr.append(var_name_test)\n",
        "\n",
        "accuracy_val_lsvc = sum(accuracy_val_lsvc_arr) / len(accuracy_val_lsvc_arr)\n",
        "accuracy_test_lsvc = sum(accuracy_test_lsvc_arr) / len(accuracy_test_lsvc_arr)\n",
        "print(\"Linear Support Vector Machine Validation set accuracy = \" + str(accuracy_val_lsvc))\n",
        "print(\"Linear Support Vector Machine Test set accuracy = \" + str(accuracy_test_lsvc))"
      ],
      "metadata": {
        "colab": {
          "base_uri": "https://localhost:8080/"
        },
        "id": "9dRrL1Y7x1Rk",
        "outputId": "3f5c51fc-ac8a-4611-a74e-7df7378eb0cb"
      },
      "execution_count": null,
      "outputs": [
        {
          "output_type": "stream",
          "name": "stdout",
          "text": [
            "Linear Support Vector Machine Validation set accuracy = 0.9752430815258041\n",
            "Linear Support Vector Machine Test set accuracy = 0.9796000000000001\n"
          ]
        }
      ]
    },
    {
      "cell_type": "markdown",
      "source": [
        "## Sử dụng tập training_svd, test_svd từ câu b)"
      ],
      "metadata": {
        "id": "l_b53ROgs9Wu"
      }
    },
    {
      "cell_type": "code",
      "source": [
        "def f(x):\n",
        "  k = x.split(',')\n",
        "  return int(k[0]), ml_vectors.dense(np.array(k[1:]))"
      ],
      "metadata": {
        "id": "MzzNsn2-tj7S"
      },
      "execution_count": null,
      "outputs": []
    },
    {
      "cell_type": "code",
      "source": [
        "train_data_svd = sc.textFile(\"/content/drive/MyDrive/BigData/Final/datasets/mnist_small_train_svd.csv\").map(f).toDF(['label', 'features'])\n",
        "test_data_svd = sc.textFile(\"/content/drive/MyDrive/BigData/Final/datasets/mnist_small_test_svd.csv\").map(f).toDF(['label', 'features'])"
      ],
      "metadata": {
        "id": "FxfkvjNPtJv3"
      },
      "execution_count": null,
      "outputs": []
    },
    {
      "cell_type": "code",
      "source": [
        "train_set_svd, val_data_svd = train_data_svd.randomSplit([0.8, 0.2], seed=42)"
      ],
      "metadata": {
        "id": "YDUN2zfVtqEx"
      },
      "execution_count": null,
      "outputs": []
    },
    {
      "cell_type": "markdown",
      "source": [
        "### MLP"
      ],
      "metadata": {
        "id": "moouRmbNt7R2"
      }
    },
    {
      "cell_type": "code",
      "source": [
        "from pyspark.ml.classification import MultilayerPerceptronClassifier\n",
        "from pyspark.ml.evaluation import MulticlassClassificationEvaluator\n",
        "\n",
        "layers = [196, 256, 128, 10]\n",
        "mlp_svd = MultilayerPerceptronClassifier(maxIter=100, layers=layers, blockSize=128, seed=42)"
      ],
      "metadata": {
        "id": "_QXXfDQHt8Se"
      },
      "execution_count": null,
      "outputs": []
    },
    {
      "cell_type": "code",
      "source": [
        "model_mlp_svd = mlp_svd.fit(train_set_svd)"
      ],
      "metadata": {
        "id": "Zy2U4F-8t9Rk"
      },
      "execution_count": null,
      "outputs": []
    },
    {
      "cell_type": "code",
      "source": [
        "# tính accuracy trên val_data\n",
        "result = model_mlp_svd.transform(val_data_svd)\n",
        "predictionAndLabels = result.select(\"prediction\", \"label\")\n",
        "evaluator_val_mlp_svd = MulticlassClassificationEvaluator(metricName=\"accuracy\")\n",
        "accuracy_val_mlp_svd = evaluator_val_mlp_svd.evaluate(predictionAndLabels)\n",
        "print(\"MLP Validation SVD set accuracy = \" + str(accuracy_val_mlp_svd))"
      ],
      "metadata": {
        "colab": {
          "base_uri": "https://localhost:8080/"
        },
        "id": "6CUy1HPrt9ZU",
        "outputId": "3b03f961-dee0-424a-e749-9d6ef55728f3"
      },
      "execution_count": null,
      "outputs": [
        {
          "output_type": "stream",
          "name": "stdout",
          "text": [
            "MLP Validation SVD set accuracy = 0.6013462976813763\n"
          ]
        }
      ]
    },
    {
      "cell_type": "code",
      "source": [
        "# Tính accuracy trên test_data\n",
        "result = model_mlp_svd.transform(test_data_svd)\n",
        "predictionAndLabels = result.select(\"prediction\", \"label\")\n",
        "evaluator_test_mlp_svd = MulticlassClassificationEvaluator(metricName=\"accuracy\")\n",
        "accuracy_test_mlp_svd = evaluator_test_mlp_svd.evaluate(predictionAndLabels)\n",
        "print(\"MLP Test SVD set accuracy = \" + str(accuracy_test_mlp_svd))"
      ],
      "metadata": {
        "colab": {
          "base_uri": "https://localhost:8080/"
        },
        "id": "AEHm25syt9dQ",
        "outputId": "20ae9fb6-c319-4436-ee2b-d6f3a8a87f80"
      },
      "execution_count": null,
      "outputs": [
        {
          "output_type": "stream",
          "name": "stdout",
          "text": [
            "MLP Test SVD set accuracy = 0.5556666666666666\n"
          ]
        }
      ]
    },
    {
      "cell_type": "markdown",
      "source": [
        "### Random Forest"
      ],
      "metadata": {
        "id": "RHfZ0kgKt9gh"
      }
    },
    {
      "cell_type": "code",
      "source": [
        "from pyspark.ml.classification import RandomForestClassifier\n",
        "\n",
        "rf_svd = RandomForestClassifier(labelCol='label', featuresCol='features', numTrees=50, seed=1234, maxDepth=10)"
      ],
      "metadata": {
        "id": "TPwLyRDit9jx"
      },
      "execution_count": null,
      "outputs": []
    },
    {
      "cell_type": "code",
      "source": [
        "model_rf_svd = rf_svd.fit(train_set_svd)"
      ],
      "metadata": {
        "id": "ATWWh3vBt9nm"
      },
      "execution_count": null,
      "outputs": []
    },
    {
      "cell_type": "code",
      "source": [
        "# tính accuracy trên val_data\n",
        "result = model_rf_svd.transform(val_data_svd)\n",
        "predictionAndLabels = result.select(\"prediction\", \"label\")\n",
        "evaluator_val_rf_svd = MulticlassClassificationEvaluator(metricName=\"accuracy\")\n",
        "accuracy_val_rf_svd = evaluator_val_rf_svd.evaluate(predictionAndLabels)\n",
        "print(\"Random Forest Validation SVD set accuracy = \" + str(accuracy_val_rf_svd))"
      ],
      "metadata": {
        "colab": {
          "base_uri": "https://localhost:8080/"
        },
        "id": "455jWplpt9qv",
        "outputId": "85c074a7-a2e5-4411-a088-60f32c701435"
      },
      "execution_count": null,
      "outputs": [
        {
          "output_type": "stream",
          "name": "stdout",
          "text": [
            "Random Forest Validation SVD set accuracy = 0.6192969334330591\n"
          ]
        }
      ]
    },
    {
      "cell_type": "code",
      "source": [
        "# Tính accuracy trên test_data\n",
        "result = model_rf_svd.transform(test_data_svd)\n",
        "predictionAndLabels = result.select(\"prediction\", \"label\")\n",
        "evaluator_test_rf_svd = MulticlassClassificationEvaluator(metricName=\"accuracy\")\n",
        "accuracy_test_rf_svd = evaluator_test_rf_svd.evaluate(predictionAndLabels)\n",
        "print(\"Random Forest Test SVD set accuracy = \" + str(accuracy_test_rf_svd))"
      ],
      "metadata": {
        "colab": {
          "base_uri": "https://localhost:8080/"
        },
        "id": "sUub3LrOt9ty",
        "outputId": "8b813b23-7769-45d4-aa8d-d47b173a7a90"
      },
      "execution_count": null,
      "outputs": [
        {
          "output_type": "stream",
          "name": "stdout",
          "text": [
            "Random Forest Test SVD set accuracy = 0.5713333333333334\n"
          ]
        }
      ]
    },
    {
      "cell_type": "markdown",
      "source": [
        "### Linear Support Vector Machine"
      ],
      "metadata": {
        "id": "WgfqVz8St9xp"
      }
    },
    {
      "cell_type": "markdown",
      "source": [
        "#### LSVC phân biệt số 0"
      ],
      "metadata": {
        "id": "G6SLSeYRm_A8"
      }
    },
    {
      "cell_type": "code",
      "source": [
        "from pyspark.sql.functions import when, col\n",
        "# label khác 0 thì thay = 1, 0 thì giữ nguyên 0 (otherwise(0))\n",
        "test_data_0 = test_data_svd.withColumn(\"label\", when(col(\"label\") != 0, 1).otherwise(0))\n",
        "train_set_0 = train_set_svd.withColumn(\"label\", when(col(\"label\") != 0, 1).otherwise(0))\n",
        "val_data_0 = val_data_svd.withColumn(\"label\", when(col(\"label\") != 0, 1).otherwise(0))"
      ],
      "metadata": {
        "id": "74EJHHXmmV8A"
      },
      "execution_count": null,
      "outputs": []
    },
    {
      "cell_type": "code",
      "source": [
        "from pyspark.ml.classification import LinearSVC\n",
        "\n",
        "# Load training data\n",
        "lsvc = LinearSVC(maxIter=100, regParam=0.1)\n",
        "\n",
        "# Fit the model\n",
        "model_lsvc_0 = lsvc.fit(train_set_0)"
      ],
      "metadata": {
        "id": "AU-gMlN8mn9B"
      },
      "execution_count": null,
      "outputs": []
    },
    {
      "cell_type": "code",
      "source": [
        "# tính accuracy trên val_data\n",
        "result = model_lsvc_0.transform(val_data_0)\n",
        "predictionAndLabels = result.select(\"prediction\", \"label\")\n",
        "evaluator_val_lsvc_0 = MulticlassClassificationEvaluator(metricName=\"accuracy\")\n",
        "accuracy_val_lsvc_0 = evaluator_val_lsvc_0.evaluate(predictionAndLabels)\n",
        "print(\"Linear Support Vector Machine Validation SVD set accuracy prediction 0 = \" + str(accuracy_val_lsvc_0))"
      ],
      "metadata": {
        "colab": {
          "base_uri": "https://localhost:8080/"
        },
        "id": "bw6uHUnxmoMh",
        "outputId": "fbd3eea0-6f9c-4559-b1fb-6d4efce782b8"
      },
      "execution_count": null,
      "outputs": [
        {
          "output_type": "stream",
          "name": "stdout",
          "text": [
            "Linear Support Vector Machine Validation SVD set accuracy prediction 0 = 0.9184741959611069\n"
          ]
        }
      ]
    },
    {
      "cell_type": "code",
      "source": [
        "# Tính accuracy trên test_data\n",
        "result = model_lsvc_0.transform(test_data_0)\n",
        "predictionAndLabels = result.select(\"prediction\", \"label\")\n",
        "evaluator_test_lsvc_0 = MulticlassClassificationEvaluator(metricName=\"accuracy\")\n",
        "accuracy_test_lsvc_0 = evaluator_test_lsvc_0.evaluate(predictionAndLabels)\n",
        "print(\"Linear Support Vector Machine Test SVD set accuracy prediction 0 = \" + str(accuracy_test_lsvc_0))"
      ],
      "metadata": {
        "colab": {
          "base_uri": "https://localhost:8080/"
        },
        "id": "TR3HCNHgmoPS",
        "outputId": "3a3eda5e-0dc2-4245-9646-34904c881fa6"
      },
      "execution_count": null,
      "outputs": [
        {
          "output_type": "stream",
          "name": "stdout",
          "text": [
            "Linear Support Vector Machine Test SVD set accuracy prediction 0 = 0.48133333333333334\n"
          ]
        }
      ]
    },
    {
      "cell_type": "markdown",
      "source": [
        "#### LSVC phân biệt số 1"
      ],
      "metadata": {
        "id": "NldkxNKTpezi"
      }
    },
    {
      "cell_type": "code",
      "source": [
        "test_data_1 = test_data_svd.withColumn(\"label\", when(col(\"label\") != 1, 0).otherwise(1))\n",
        "train_set_1 = train_set_svd.withColumn(\"label\", when(col(\"label\") != 1, 0).otherwise(1))\n",
        "val_data_1 = val_data_svd.withColumn(\"label\", when(col(\"label\") != 1, 0).otherwise(1))"
      ],
      "metadata": {
        "id": "nUGV-IURpezi"
      },
      "execution_count": null,
      "outputs": []
    },
    {
      "cell_type": "code",
      "source": [
        "# Load training data\n",
        "lsvc = LinearSVC(maxIter=100, regParam=0.1)\n",
        "\n",
        "# Fit the model\n",
        "model_lsvc_1 = lsvc.fit(train_set_1)"
      ],
      "metadata": {
        "id": "2eOptI5npezi"
      },
      "execution_count": null,
      "outputs": []
    },
    {
      "cell_type": "code",
      "source": [
        "# tính accuracy trên val_data\n",
        "result = model_lsvc_1.transform(val_data_1)\n",
        "predictionAndLabels = result.select(\"prediction\", \"label\")\n",
        "evaluator_val_lsvc_1 = MulticlassClassificationEvaluator(metricName=\"accuracy\")\n",
        "accuracy_val_lsvc_1 = evaluator_val_lsvc_1.evaluate(predictionAndLabels)\n",
        "print(\"Linear Support Vector Machine Validation SVD set accuracy prediction 1 = \" + str(accuracy_val_lsvc_1))"
      ],
      "metadata": {
        "colab": {
          "base_uri": "https://localhost:8080/"
        },
        "outputId": "763df20b-6677-4fd5-a4fd-33d336b5935f",
        "id": "XC6Fxo5fpezj"
      },
      "execution_count": null,
      "outputs": [
        {
          "output_type": "stream",
          "name": "stdout",
          "text": [
            "Linear Support Vector Machine Validation SVD set accuracy prediction 1 = 0.8915482423335827\n"
          ]
        }
      ]
    },
    {
      "cell_type": "code",
      "source": [
        "# Tính accuracy trên test_data\n",
        "result = model_lsvc_1.transform(test_data_1)\n",
        "predictionAndLabels = result.select(\"prediction\", \"label\")\n",
        "evaluator_test_lsvc_1 = MulticlassClassificationEvaluator(metricName=\"accuracy\")\n",
        "accuracy_test_lsvc_1 = evaluator_test_lsvc_1.evaluate(predictionAndLabels)\n",
        "print(\"Linear Support Vector Machine Test SVD set accuracy prediction 1 = \" + str(accuracy_test_lsvc_1))"
      ],
      "metadata": {
        "colab": {
          "base_uri": "https://localhost:8080/"
        },
        "outputId": "e6179177-1e74-4bd7-c54f-b369248b28e2",
        "id": "bBIIVe4dpezj"
      },
      "execution_count": null,
      "outputs": [
        {
          "output_type": "stream",
          "name": "stdout",
          "text": [
            "Linear Support Vector Machine Test SVD set accuracy prediction 1 = 0.5003333333333333\n"
          ]
        }
      ]
    },
    {
      "cell_type": "markdown",
      "source": [
        "#### LSVC phân biệt số 2"
      ],
      "metadata": {
        "id": "aNzBXFq-puBi"
      }
    },
    {
      "cell_type": "code",
      "source": [
        "test_data_2 = test_data_svd.withColumn(\"label\", when(col(\"label\") != 2, 0).otherwise(1))\n",
        "train_set_2 = train_set_svd.withColumn(\"label\", when(col(\"label\") != 2, 0).otherwise(1))\n",
        "val_data_2 = val_data_svd.withColumn(\"label\", when(col(\"label\") != 2, 0).otherwise(1))"
      ],
      "metadata": {
        "id": "-DQ54-0wpuBj"
      },
      "execution_count": null,
      "outputs": []
    },
    {
      "cell_type": "code",
      "source": [
        "# Load training data\n",
        "lsvc = LinearSVC(maxIter=100, regParam=0.1)\n",
        "\n",
        "# Fit the model\n",
        "model_lsvc_2 = lsvc.fit(train_set_2)"
      ],
      "metadata": {
        "id": "y6UKM1expuBj"
      },
      "execution_count": null,
      "outputs": []
    },
    {
      "cell_type": "code",
      "source": [
        "# tính accuracy trên val_data\n",
        "result = model_lsvc_2.transform(val_data_2)\n",
        "predictionAndLabels = result.select(\"prediction\", \"label\")\n",
        "evaluator_val_lsvc_2 = MulticlassClassificationEvaluator(metricName=\"accuracy\")\n",
        "accuracy_val_lsvc_2 = evaluator_val_lsvc_2.evaluate(predictionAndLabels)\n",
        "print(\"Linear Support Vector Machine Validation set accuracy prediction 2 = \" + str(accuracy_val_lsvc_2))"
      ],
      "metadata": {
        "colab": {
          "base_uri": "https://localhost:8080/"
        },
        "outputId": "2e4424d0-dd6c-4a4a-cb5f-41ec6a431e13",
        "id": "nPo3zOnSpuBj"
      },
      "execution_count": null,
      "outputs": [
        {
          "output_type": "stream",
          "name": "stdout",
          "text": [
            "Linear Support Vector Machine Validation set accuracy prediction 2 = 0.9184741959611069\n"
          ]
        }
      ]
    },
    {
      "cell_type": "code",
      "source": [
        "# Tính accuracy trên test_data\n",
        "result = model_lsvc_2.transform(test_data_2)\n",
        "predictionAndLabels = result.select(\"prediction\", \"label\")\n",
        "evaluator_test_lsvc_2 = MulticlassClassificationEvaluator(metricName=\"accuracy\")\n",
        "accuracy_test_lsvc_2 = evaluator_test_lsvc_2.evaluate(predictionAndLabels)\n",
        "print(\"Linear Support Vector Machine Test set accuracy prediction 2 = \" + str(accuracy_test_lsvc_2))"
      ],
      "metadata": {
        "colab": {
          "base_uri": "https://localhost:8080/"
        },
        "outputId": "e54dd706-9a0e-42a8-b0ad-635de5a16160",
        "id": "Sv_7y92apuBj"
      },
      "execution_count": null,
      "outputs": [
        {
          "output_type": "stream",
          "name": "stdout",
          "text": [
            "Linear Support Vector Machine Test set accuracy prediction 2 = 0.5066666666666667\n"
          ]
        }
      ]
    },
    {
      "cell_type": "markdown",
      "source": [
        "#### LSVC phân biệt số 3"
      ],
      "metadata": {
        "id": "5iiXMMtqpuBk"
      }
    },
    {
      "cell_type": "code",
      "source": [
        "test_data_3 = test_data_svd.withColumn(\"label\", when(col(\"label\") != 3, 0).otherwise(1))\n",
        "train_set_3 = train_set_svd.withColumn(\"label\", when(col(\"label\") != 3, 0).otherwise(1))\n",
        "val_data_3 = val_data_svd.withColumn(\"label\", when(col(\"label\") != 3, 0).otherwise(1))"
      ],
      "metadata": {
        "id": "5j5mcjmIpuBk"
      },
      "execution_count": null,
      "outputs": []
    },
    {
      "cell_type": "code",
      "source": [
        "model_lsvc_3 = lsvc.fit(train_set_3)"
      ],
      "metadata": {
        "id": "ENkIvBH3puBk"
      },
      "execution_count": null,
      "outputs": []
    },
    {
      "cell_type": "code",
      "source": [
        "# tính accuracy trên val_data\n",
        "result = model_lsvc_3.transform(val_data_3)\n",
        "predictionAndLabels = result.select(\"prediction\", \"label\")\n",
        "evaluator_val_lsvc_3 = MulticlassClassificationEvaluator(metricName=\"accuracy\")\n",
        "accuracy_val_lsvc_3 = evaluator_val_lsvc_3.evaluate(predictionAndLabels)\n",
        "print(\"Linear Support Vector Machine Validation set accuracy prediction 3 = \" + str(accuracy_val_lsvc_3))"
      ],
      "metadata": {
        "colab": {
          "base_uri": "https://localhost:8080/"
        },
        "outputId": "f6a58da9-6bd3-45ec-8bb0-fa46b43f42c6",
        "id": "K314jPzCpuBk"
      },
      "execution_count": null,
      "outputs": [
        {
          "output_type": "stream",
          "name": "stdout",
          "text": [
            "Linear Support Vector Machine Validation set accuracy prediction 3 = 0.8945400149588631\n"
          ]
        }
      ]
    },
    {
      "cell_type": "code",
      "source": [
        "# Tính accuracy trên test_data\n",
        "result = model_lsvc_3.transform(test_data_3)\n",
        "predictionAndLabels = result.select(\"prediction\", \"label\")\n",
        "evaluator_test_lsvc_3 = MulticlassClassificationEvaluator(metricName=\"accuracy\")\n",
        "accuracy_test_lsvc_3 = evaluator_test_lsvc_3.evaluate(predictionAndLabels)\n",
        "print(\"Linear Support Vector Machine Test set accuracy prediction 3 = \" + str(accuracy_test_lsvc_3))"
      ],
      "metadata": {
        "colab": {
          "base_uri": "https://localhost:8080/"
        },
        "outputId": "8d304adf-bfd8-448d-fa63-c7109aa331c8",
        "id": "bMxYEyiwpuBk"
      },
      "execution_count": null,
      "outputs": [
        {
          "output_type": "stream",
          "name": "stdout",
          "text": [
            "Linear Support Vector Machine Test set accuracy prediction 3 = 0.5153333333333333\n"
          ]
        }
      ]
    },
    {
      "cell_type": "markdown",
      "source": [
        "#### LSVC phân biệt số 4"
      ],
      "metadata": {
        "id": "UqrDdvwypuBk"
      }
    },
    {
      "cell_type": "code",
      "source": [
        "test_data_4 = test_data_svd.withColumn(\"label\", when(col(\"label\") != 4, 0).otherwise(1))\n",
        "train_set_4 = train_set_svd.withColumn(\"label\", when(col(\"label\") != 4, 0).otherwise(1))\n",
        "val_data_4 = val_data_svd.withColumn(\"label\", when(col(\"label\") != 4, 0).otherwise(1))"
      ],
      "metadata": {
        "id": "2NerNAzBpuBk"
      },
      "execution_count": null,
      "outputs": []
    },
    {
      "cell_type": "code",
      "source": [
        "# Load training data\n",
        "lsvc = LinearSVC(maxIter=100, regParam=0.1)\n",
        "\n",
        "# Fit the model\n",
        "model_lsvc_4 = lsvc.fit(train_set_4)"
      ],
      "metadata": {
        "id": "-tOGsA7cpuBk"
      },
      "execution_count": null,
      "outputs": []
    },
    {
      "cell_type": "code",
      "source": [
        "# tính accuracy trên val_data\n",
        "result = model_lsvc_4.transform(val_data_4)\n",
        "predictionAndLabels = result.select(\"prediction\", \"label\")\n",
        "evaluator_val_lsvc_4 = MulticlassClassificationEvaluator(metricName=\"accuracy\")\n",
        "accuracy_val_lsvc_4 = evaluator_val_lsvc_4.evaluate(predictionAndLabels)\n",
        "print(\"Linear Support Vector Machine Validation set accuracy prediction 4 = \" + str(accuracy_val_lsvc_4))"
      ],
      "metadata": {
        "colab": {
          "base_uri": "https://localhost:8080/"
        },
        "outputId": "5c57cba7-e67b-4021-bddd-6e7431082f48",
        "id": "x-ibzwq6puBl"
      },
      "execution_count": null,
      "outputs": [
        {
          "output_type": "stream",
          "name": "stdout",
          "text": [
            "Linear Support Vector Machine Validation set accuracy prediction 4 = 0.8967838444278234\n"
          ]
        }
      ]
    },
    {
      "cell_type": "code",
      "source": [
        "# Tính accuracy trên test_data\n",
        "result = model_lsvc_4.transform(test_data_4)\n",
        "predictionAndLabels = result.select(\"prediction\", \"label\")\n",
        "evaluator_test_lsvc_4 = MulticlassClassificationEvaluator(metricName=\"accuracy\")\n",
        "accuracy_test_lsvc_4 = evaluator_test_lsvc_4.evaluate(predictionAndLabels)\n",
        "print(\"Linear Support Vector Machine Test set accuracy prediction 4 = \" + str(accuracy_test_lsvc_4))"
      ],
      "metadata": {
        "colab": {
          "base_uri": "https://localhost:8080/"
        },
        "outputId": "28699fe4-e2f8-4e4e-c034-c08b53ffd663",
        "id": "HgNTs5aBpuBl"
      },
      "execution_count": null,
      "outputs": [
        {
          "output_type": "stream",
          "name": "stdout",
          "text": [
            "Linear Support Vector Machine Test set accuracy prediction 4 = 0.5016666666666667\n"
          ]
        }
      ]
    },
    {
      "cell_type": "markdown",
      "source": [
        "#### LSVC phân biệt số 5"
      ],
      "metadata": {
        "id": "Frttqc4upuBl"
      }
    },
    {
      "cell_type": "code",
      "source": [
        "test_data_5 = test_data_svd.withColumn(\"label\", when(col(\"label\") != 5, 0).otherwise(1))\n",
        "train_set_5 = train_set_svd.withColumn(\"label\", when(col(\"label\") != 5, 0).otherwise(1))\n",
        "val_data_5 = val_data_svd.withColumn(\"label\", when(col(\"label\") != 5, 0).otherwise(1))"
      ],
      "metadata": {
        "id": "zYais5zSpuBl"
      },
      "execution_count": null,
      "outputs": []
    },
    {
      "cell_type": "code",
      "source": [
        "model_lsvc_5 = lsvc.fit(train_set_5)"
      ],
      "metadata": {
        "id": "YJVq2tIgpuBl"
      },
      "execution_count": null,
      "outputs": []
    },
    {
      "cell_type": "code",
      "source": [
        "# tính accuracy trên val_data\n",
        "result = model_lsvc_5.transform(val_data_5)\n",
        "predictionAndLabels = result.select(\"prediction\", \"label\")\n",
        "evaluator_val_lsvc_5 = MulticlassClassificationEvaluator(metricName=\"accuracy\")\n",
        "accuracy_val_lsvc_5 = evaluator_val_lsvc_5.evaluate(predictionAndLabels)\n",
        "print(\"Linear Support Vector Machine Validation set accuracy prediction 5 = \" + str(accuracy_val_lsvc_5))"
      ],
      "metadata": {
        "colab": {
          "base_uri": "https://localhost:8080/"
        },
        "outputId": "407d6716-5a39-4add-f253-163cf4231d1e",
        "id": "XQFwEd2WpuBl"
      },
      "execution_count": null,
      "outputs": [
        {
          "output_type": "stream",
          "name": "stdout",
          "text": [
            "Linear Support Vector Machine Validation set accuracy prediction 5 = 0.9229618548990277\n"
          ]
        }
      ]
    },
    {
      "cell_type": "code",
      "source": [
        "# Tính accuracy trên test_data\n",
        "result = model_lsvc_5.transform(test_data_5)\n",
        "predictionAndLabels = result.select(\"prediction\", \"label\")\n",
        "evaluator_test_lsvc_5 = MulticlassClassificationEvaluator(metricName=\"accuracy\")\n",
        "accuracy_test_lsvc_5 = evaluator_test_lsvc_5.evaluate(predictionAndLabels)\n",
        "print(\"Linear Support Vector Machine Test set accuracy prediction 5 = \" + str(accuracy_test_lsvc_5))"
      ],
      "metadata": {
        "colab": {
          "base_uri": "https://localhost:8080/"
        },
        "outputId": "ea3e6d50-6fbf-4e14-9552-f7e7b3247ac3",
        "id": "mZYGUvy0puBl"
      },
      "execution_count": null,
      "outputs": [
        {
          "output_type": "stream",
          "name": "stdout",
          "text": [
            "Linear Support Vector Machine Test set accuracy prediction 5 = 0.48733333333333334\n"
          ]
        }
      ]
    },
    {
      "cell_type": "markdown",
      "source": [
        "#### LSVC phân biệt số 6"
      ],
      "metadata": {
        "id": "m66XdcWtpuBm"
      }
    },
    {
      "cell_type": "code",
      "source": [
        "test_data_6 = test_data_svd.withColumn(\"label\", when(col(\"label\") != 6, 0).otherwise(1))\n",
        "train_set_6 = train_set_svd.withColumn(\"label\", when(col(\"label\") != 6, 0).otherwise(1))\n",
        "val_data_6 = val_data_svd.withColumn(\"label\", when(col(\"label\") != 6, 0).otherwise(1))"
      ],
      "metadata": {
        "id": "eR04amVTpuBm"
      },
      "execution_count": null,
      "outputs": []
    },
    {
      "cell_type": "code",
      "source": [
        "model_lsvc_6 = lsvc.fit(train_set_6)"
      ],
      "metadata": {
        "id": "jquNgazzpuBm"
      },
      "execution_count": null,
      "outputs": []
    },
    {
      "cell_type": "code",
      "source": [
        "# tính accuracy trên val_data\n",
        "result = model_lsvc_6.transform(val_data_6)\n",
        "predictionAndLabels = result.select(\"prediction\", \"label\")\n",
        "evaluator_val_lsvc_6 = MulticlassClassificationEvaluator(metricName=\"accuracy\")\n",
        "accuracy_val_lsvc_6 = evaluator_val_lsvc_6.evaluate(predictionAndLabels)\n",
        "print(\"Linear Support Vector Machine Validation set accuracy prediction 6 = \" + str(accuracy_val_lsvc_6))"
      ],
      "metadata": {
        "colab": {
          "base_uri": "https://localhost:8080/"
        },
        "outputId": "2bc6dda0-72e3-4027-e667-522ec0801e1c",
        "id": "nzH2aTpnpuBm"
      },
      "execution_count": null,
      "outputs": [
        {
          "output_type": "stream",
          "name": "stdout",
          "text": [
            "Linear Support Vector Machine Validation set accuracy prediction 6 = 0.9506357516828721\n"
          ]
        }
      ]
    },
    {
      "cell_type": "code",
      "source": [
        "# Tính accuracy trên test_data\n",
        "result = model_lsvc_6.transform(test_data_6)\n",
        "predictionAndLabels = result.select(\"prediction\", \"label\")\n",
        "evaluator_test_lsvc_6 = MulticlassClassificationEvaluator(metricName=\"accuracy\")\n",
        "accuracy_test_lsvc_6 = evaluator_test_lsvc_6.evaluate(predictionAndLabels)\n",
        "print(\"Linear Support Vector Machine Test set accuracy prediction 6 = \" + str(accuracy_test_lsvc_6))"
      ],
      "metadata": {
        "colab": {
          "base_uri": "https://localhost:8080/"
        },
        "outputId": "00c53e8b-4163-423c-9e3f-97db33543435",
        "id": "7y3679n1puBm"
      },
      "execution_count": null,
      "outputs": [
        {
          "output_type": "stream",
          "name": "stdout",
          "text": [
            "Linear Support Vector Machine Test set accuracy prediction 6 = 0.53\n"
          ]
        }
      ]
    },
    {
      "cell_type": "markdown",
      "source": [
        "#### LSVC phân biệt số 7"
      ],
      "metadata": {
        "id": "5RcCDUT2puBm"
      }
    },
    {
      "cell_type": "code",
      "source": [
        "test_data_7 = test_data_svd.withColumn(\"label\", when(col(\"label\") != 7, 0).otherwise(1))\n",
        "train_set_7 = train_set_svd.withColumn(\"label\", when(col(\"label\") != 7, 0).otherwise(1))\n",
        "val_data_7 = val_data_svd.withColumn(\"label\", when(col(\"label\") != 7, 0).otherwise(1))"
      ],
      "metadata": {
        "id": "NZUkn_gCpuBm"
      },
      "execution_count": null,
      "outputs": []
    },
    {
      "cell_type": "code",
      "source": [
        "model_lsvc_7 = lsvc.fit(train_set_7)"
      ],
      "metadata": {
        "id": "12QlogESpuBn"
      },
      "execution_count": null,
      "outputs": []
    },
    {
      "cell_type": "code",
      "source": [
        "# tính accuracy trên val_data\n",
        "result = model_lsvc_7.transform(val_data_7)\n",
        "predictionAndLabels = result.select(\"prediction\", \"label\")\n",
        "evaluator_val_lsvc_7 = MulticlassClassificationEvaluator(metricName=\"accuracy\")\n",
        "accuracy_val_lsvc_7 = evaluator_val_lsvc_7.evaluate(predictionAndLabels)\n",
        "print(\"Linear Support Vector Machine Validation set accuracy prediction 7 = \" + str(accuracy_val_lsvc_7))"
      ],
      "metadata": {
        "colab": {
          "base_uri": "https://localhost:8080/"
        },
        "outputId": "4dbcc236-d753-453f-d397-9c993feb108c",
        "id": "uEhNVUNzpuBn"
      },
      "execution_count": null,
      "outputs": [
        {
          "output_type": "stream",
          "name": "stdout",
          "text": [
            "Linear Support Vector Machine Validation set accuracy prediction 7 = 0.893792071802543\n"
          ]
        }
      ]
    },
    {
      "cell_type": "code",
      "source": [
        "# Tính accuracy trên test_data\n",
        "result = model_lsvc_7.transform(test_data_7)\n",
        "predictionAndLabels = result.select(\"prediction\", \"label\")\n",
        "evaluator_test_lsvc_7 = MulticlassClassificationEvaluator(metricName=\"accuracy\")\n",
        "accuracy_test_lsvc_7 = evaluator_test_lsvc_7.evaluate(predictionAndLabels)\n",
        "print(\"Linear Support Vector Machine Test set accuracy prediction 7 = \" + str(accuracy_test_lsvc_7))"
      ],
      "metadata": {
        "colab": {
          "base_uri": "https://localhost:8080/"
        },
        "outputId": "d74f0677-d273-4d35-f309-c67ce3e119c0",
        "id": "n81k8tnepuBn"
      },
      "execution_count": null,
      "outputs": [
        {
          "output_type": "stream",
          "name": "stdout",
          "text": [
            "Linear Support Vector Machine Test set accuracy prediction 7 = 0.4696666666666667\n"
          ]
        }
      ]
    },
    {
      "cell_type": "markdown",
      "source": [
        "#### LSVC phân biệt số 8"
      ],
      "metadata": {
        "id": "UulXNPEfpuBn"
      }
    },
    {
      "cell_type": "code",
      "source": [
        "test_data_8 = test_data_svd.withColumn(\"label\", when(col(\"label\") != 8, 0).otherwise(1))\n",
        "train_set_8 = train_set_svd.withColumn(\"label\", when(col(\"label\") != 8, 0).otherwise(1))\n",
        "val_data_8 = val_data_svd.withColumn(\"label\", when(col(\"label\") != 8, 0).otherwise(1))"
      ],
      "metadata": {
        "id": "vfyhVwCIpuBn"
      },
      "execution_count": null,
      "outputs": []
    },
    {
      "cell_type": "code",
      "source": [
        "model_lsvc_8 = lsvc.fit(train_set_8)"
      ],
      "metadata": {
        "id": "ueUZSeOjpuBo"
      },
      "execution_count": null,
      "outputs": []
    },
    {
      "cell_type": "code",
      "source": [
        "# tính accuracy trên val_data\n",
        "result = model_lsvc_8.transform(val_data_8)\n",
        "predictionAndLabels = result.select(\"prediction\", \"label\")\n",
        "evaluator_val_lsvc_8 = MulticlassClassificationEvaluator(metricName=\"accuracy\")\n",
        "accuracy_val_lsvc_8 = evaluator_val_lsvc_8.evaluate(predictionAndLabels)\n",
        "print(\"Linear Support Vector Machine Validation set accuracy prediction 8 = \" + str(accuracy_val_lsvc_8))"
      ],
      "metadata": {
        "colab": {
          "base_uri": "https://localhost:8080/"
        },
        "outputId": "06ea715a-5826-4324-bb61-fd5740e643d1",
        "id": "882y4tnRpuBo"
      },
      "execution_count": null,
      "outputs": [
        {
          "output_type": "stream",
          "name": "stdout",
          "text": [
            "Linear Support Vector Machine Validation set accuracy prediction 8 = 0.9072550486163051\n"
          ]
        }
      ]
    },
    {
      "cell_type": "code",
      "source": [
        "# Tính accuracy trên test_data\n",
        "result = model_lsvc_8.transform(test_data_8)\n",
        "predictionAndLabels = result.select(\"prediction\", \"label\")\n",
        "evaluator_test_lsvc_8 = MulticlassClassificationEvaluator(metricName=\"accuracy\")\n",
        "accuracy_test_lsvc_8 = evaluator_test_lsvc_8.evaluate(predictionAndLabels)\n",
        "print(\"Linear Support Vector Machine Test set accuracy prediction 8 = \" + str(accuracy_test_lsvc_8))"
      ],
      "metadata": {
        "colab": {
          "base_uri": "https://localhost:8080/"
        },
        "outputId": "f3ebbb06-348f-48bb-a2ee-c1cd60b3447d",
        "id": "PQzU_vKQpuBo"
      },
      "execution_count": null,
      "outputs": [
        {
          "output_type": "stream",
          "name": "stdout",
          "text": [
            "Linear Support Vector Machine Test set accuracy prediction 8 = 0.478\n"
          ]
        }
      ]
    },
    {
      "cell_type": "markdown",
      "source": [
        "#### LSVC phân biệt số 9"
      ],
      "metadata": {
        "id": "aomAoDeBpuBo"
      }
    },
    {
      "cell_type": "code",
      "source": [
        "test_data_9 = test_data_svd.withColumn(\"label\", when(col(\"label\") != 9, 0).otherwise(1))\n",
        "train_set_9 = train_set_svd.withColumn(\"label\", when(col(\"label\") != 9, 0).otherwise(1))\n",
        "val_data_9 = val_data_svd.withColumn(\"label\", when(col(\"label\") != 9, 0).otherwise(1))"
      ],
      "metadata": {
        "id": "hP7PwyVOpuBp"
      },
      "execution_count": null,
      "outputs": []
    },
    {
      "cell_type": "code",
      "source": [
        "model_lsvc_9 = lsvc.fit(train_set_9)"
      ],
      "metadata": {
        "id": "C8NyVVXzpuBp"
      },
      "execution_count": null,
      "outputs": []
    },
    {
      "cell_type": "code",
      "source": [
        "# tính accuracy trên val_data\n",
        "result = model_lsvc_9.transform(val_data_9)\n",
        "predictionAndLabels = result.select(\"prediction\", \"label\")\n",
        "evaluator_val_lsvc_9 = MulticlassClassificationEvaluator(metricName=\"accuracy\")\n",
        "accuracy_val_lsvc_9 = evaluator_val_lsvc_9.evaluate(predictionAndLabels)\n",
        "print(\"Linear Support Vector Machine Validation set accuracy prediction 9 = \" + str(accuracy_val_lsvc_9))"
      ],
      "metadata": {
        "colab": {
          "base_uri": "https://localhost:8080/"
        },
        "outputId": "60b005c2-cd0a-4a6b-9323-ee58bf7af829",
        "id": "GCTOr8W4puBp"
      },
      "execution_count": null,
      "outputs": [
        {
          "output_type": "stream",
          "name": "stdout",
          "text": [
            "Linear Support Vector Machine Validation set accuracy prediction 9 = 0.8975317875841436\n"
          ]
        }
      ]
    },
    {
      "cell_type": "code",
      "source": [
        "# Tính accuracy trên test_data\n",
        "result = model_lsvc_9.transform(test_data_9)\n",
        "predictionAndLabels = result.select(\"prediction\", \"label\")\n",
        "evaluator_test_lsvc_9 = MulticlassClassificationEvaluator(metricName=\"accuracy\")\n",
        "accuracy_test_lsvc_9 = evaluator_test_lsvc_9.evaluate(predictionAndLabels)\n",
        "print(\"Linear Support Vector Machine Test set accuracy prediction 9 = \" + str(accuracy_test_lsvc_9))"
      ],
      "metadata": {
        "colab": {
          "base_uri": "https://localhost:8080/"
        },
        "outputId": "6a4a9aa7-1fe8-47ad-d672-4f6422233f60",
        "id": "D_J4XfNDpuBp"
      },
      "execution_count": null,
      "outputs": [
        {
          "output_type": "stream",
          "name": "stdout",
          "text": [
            "Linear Support Vector Machine Test set accuracy prediction 9 = 0.526\n"
          ]
        }
      ]
    },
    {
      "cell_type": "code",
      "source": [
        "# trung bình cộng tất cả LSVC\n",
        "accuracy_val_lsvc_arr = []\n",
        "accuracy_test_lsvc_arr = []\n",
        "\n",
        "for i in range(10):\n",
        "  var_name_val = eval(f\"accuracy_val_lsvc_{i}\")\n",
        "  var_name_test = eval(f\"accuracy_test_lsvc_{i}\")\n",
        "  accuracy_val_lsvc_arr.append(var_name_val)\n",
        "  accuracy_test_lsvc_arr.append(var_name_test)\n",
        "\n",
        "accuracy_val_lsvc_svd = sum(accuracy_val_lsvc_arr) / len(accuracy_val_lsvc_arr)\n",
        "accuracy_test_lsvc_svd = sum(accuracy_test_lsvc_arr) / len(accuracy_test_lsvc_arr)\n",
        "print(\"Linear Support Vector Machine Validation SVD set accuracy = \" + str(accuracy_val_lsvc_svd))\n",
        "print(\"Linear Support Vector Machine Test SVD set accuracy = \" + str(accuracy_test_lsvc_svd))"
      ],
      "metadata": {
        "colab": {
          "base_uri": "https://localhost:8080/"
        },
        "id": "o8UgYtFG2C-P",
        "outputId": "c60a7384-59ba-4ee5-d118-00fb16b9c248"
      },
      "execution_count": null,
      "outputs": [
        {
          "output_type": "stream",
          "name": "stdout",
          "text": [
            "Linear Support Vector Machine Validation SVD set accuracy = 0.9091997008227375\n",
            "Linear Support Vector Machine Test SVD set accuracy = 0.4996333333333333\n"
          ]
        }
      ]
    },
    {
      "cell_type": "markdown",
      "source": [
        "## Thể hiện độ chính xác (visualize)\n"
      ],
      "metadata": {
        "id": "Tn66PgbUrIcy"
      }
    },
    {
      "cell_type": "code",
      "source": [
        "import matplotlib.pyplot as plt\n",
        "\n",
        "val_acc = [accuracy_val_mlp, accuracy_val_rf, accuracy_val_lsvc]\n",
        "test_acc = [accuracy_test_mlp, accuracy_test_rf, accuracy_test_lsvc]\n",
        "val_acc_svd = [accuracy_val_mlp_svd, accuracy_val_rf_svd, accuracy_val_lsvc_svd]\n",
        "test_acc_svd = [accuracy_test_mlp_svd, accuracy_test_rf_svd, accuracy_test_lsvc_svd]\n",
        "\n",
        "# Đặt tên cho các model\n",
        "models = ['MLP', 'Random Forest', 'LSVM']\n",
        "\n",
        "plt.plot(models, val_acc, label='Validation Accuracy')\n",
        "plt.plot(models, test_acc, label='Test Accuracy')\n",
        "plt.plot(models, val_acc_svd, label='Validation Accuracy SVD')\n",
        "plt.plot(models, test_acc_svd, label='Test Accuracy SVD')\n",
        "plt.legend()\n",
        "plt.show()"
      ],
      "metadata": {
        "colab": {
          "base_uri": "https://localhost:8080/",
          "height": 433
        },
        "id": "pEsIo8mUwfdQ",
        "outputId": "64967979-1567-4e85-d8a9-df5eda794ac8"
      },
      "execution_count": null,
      "outputs": [
        {
          "output_type": "display_data",
          "data": {
            "text/plain": [
              "<Figure size 640x480 with 1 Axes>"
            ],
            "image/png": "[encoded data removed]"
          },
          "metadata": {}
        }
      ]
    }
  ]
}