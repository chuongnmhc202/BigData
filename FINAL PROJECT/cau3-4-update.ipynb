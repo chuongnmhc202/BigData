{
  "nbformat": 4,
  "nbformat_minor": 0,
  "metadata": {
    "colab": {
      "provenance": []
    },
    "kernelspec": {
      "name": "python3",
      "display_name": "Python 3"
    },
    "language_info": {
      "name": "python"
    }
  },
  "cells": [
    {
      "cell_type": "code",
      "execution_count": 2,
      "metadata": {
        "colab": {
          "base_uri": "https://localhost:8080/"
        },
        "id": "zVCRofmQTOU4",
        "outputId": "42f416d1-2976-432b-d391-a2f0ae77dcac"
      },
      "outputs": [
        {
          "output_type": "stream",
          "name": "stdout",
          "text": [
            "Mounted at /content/drive\n"
          ]
        }
      ],
      "source": [
        "from google.colab import drive\n",
        "drive.mount('/content/drive')"
      ]
    },
    {
      "cell_type": "markdown",
      "source": [
        "# Cài đặt PySpark"
      ],
      "metadata": {
        "id": "ji3Q-DUPTqQE"
      }
    },
    {
      "cell_type": "code",
      "source": [
        "!apt-get install openjdk-8-jdk-headless -qq > /dev/null\n",
        "!wget -q http://archive.apache.org/dist/spark/spark-3.1.1/spark-3.1.1-bin-hadoop3.2.tgz\n",
        "!cp drive/MyDrive/tmp/spark-3.1.1-bin-hadoop3.2.tgz .\n",
        "!tar xf spark-3.1.1-bin-hadoop3.2.tgz\n",
        "!pip install -q findspark"
      ],
      "metadata": {
        "colab": {
          "base_uri": "https://localhost:8080/"
        },
        "id": "sLak6QAXTs83",
        "outputId": "6ac55d6d-e4e8-468d-ff44-8df6f3eb78dd"
      },
      "execution_count": 3,
      "outputs": [
        {
          "output_type": "stream",
          "name": "stdout",
          "text": [
            "cp: cannot stat 'drive/MyDrive/tmp/spark-3.1.1-bin-hadoop3.2.tgz': No such file or directory\n"
          ]
        }
      ]
    },
    {
      "cell_type": "code",
      "source": [
        "import os\n",
        "os.environ[\"JAVA_HOME\"] = \"/usr/lib/jvm/java-8-openjdk-amd64\"\n",
        "os.environ[\"SPARK_HOME\"] = \"/content/spark-3.1.1-bin-hadoop3.2\"\n",
        "\n",
        "import findspark\n",
        "findspark.init()"
      ],
      "metadata": {
        "id": "LLwCobo8TutD"
      },
      "execution_count": 4,
      "outputs": []
    },
    {
      "cell_type": "markdown",
      "source": [
        "# Yêu Cầu"
      ],
      "metadata": {
        "id": "3JfhVK0uTybX"
      }
    },
    {
      "cell_type": "markdown",
      "source": [
        "## Spark Context"
      ],
      "metadata": {
        "id": "ifKsQ1ZdTz_9"
      }
    },
    {
      "cell_type": "code",
      "source": [
        "from pyspark import SparkContext\n",
        "from pyspark.sql import SQLContext\n",
        "\n",
        "sc = SparkContext(\"local\", 'CK')\n",
        "sqlc = SQLContext(sc)"
      ],
      "metadata": {
        "id": "xNuzzpT_T1-N"
      },
      "execution_count": 5,
      "outputs": []
    },
    {
      "cell_type": "markdown",
      "source": [
        "## Câu 1"
      ],
      "metadata": {
        "id": "Zt5CiASST4Ef"
      }
    },
    {
      "cell_type": "code",
      "source": [],
      "metadata": {
        "id": "eoMd8ZjAT3Wu"
      },
      "execution_count": null,
      "outputs": []
    },
    {
      "cell_type": "markdown",
      "source": [
        "## Câu 2"
      ],
      "metadata": {
        "id": "UeQB-AokUBnD"
      }
    },
    {
      "cell_type": "markdown",
      "source": [
        "## Câu 3"
      ],
      "metadata": {
        "id": "EMZuRYa5UEDr"
      }
    },
    {
      "cell_type": "code",
      "source": [
        "from pyspark.ml.evaluation import RegressionEvaluator\n",
        "from pyspark.ml.recommendation import ALS\n",
        "from pyspark.sql import Row\n",
        "\n",
        "# Đọc file CSV và chuyển đổi dữ liệu sang dạng DataFrame\n",
        "ratings = sqlc.read.format('csv').option('header', 'true').option('inferSchema', 'true')\\\n",
        "              .load('/content/drive/MyDrive/BigData/data/ratings2k.csv')\\\n",
        "              .withColumnRenamed('0', 'index').withColumnRenamed('1', 'user')\\\n",
        "              .withColumnRenamed('2', 'item').withColumnRenamed('3', 'rating')\\\n",
        "              .orderBy('user')\n",
        "\n",
        "# Cache DataFrame ratings để tăng tốc độ xử lý\n",
        "ratings.cache()\n",
        "\n",
        "# Hiển thị schema và 20 dòng đầu tiên của DataFrame ratings\n",
        "ratings.printSchema()\n",
        "ratings.show(20) # show 20 dòng đầu"
      ],
      "metadata": {
        "colab": {
          "base_uri": "https://localhost:8080/"
        },
        "id": "RNMMxAXlUF86",
        "outputId": "5cc5e85e-7cd3-4c10-bcef-30014402dd06"
      },
      "execution_count": 8,
      "outputs": [
        {
          "output_type": "stream",
          "name": "stdout",
          "text": [
            "root\n",
            " |-- index: integer (nullable = true)\n",
            " |-- user: integer (nullable = true)\n",
            " |-- item: integer (nullable = true)\n",
            " |-- rating: double (nullable = true)\n",
            "\n",
            "+-----+----+----+------+\n",
            "|index|user|item|rating|\n",
            "+-----+----+----+------+\n",
            "|   32|   1| 167|   3.5|\n",
            "|  130|   1| 422|   3.5|\n",
            "|  390|   1| 352|   5.0|\n",
            "| 1188|   1| 168|   5.0|\n",
            "| 1544|   1| 163|   5.0|\n",
            "|   50|   2| 413|   3.5|\n",
            "|  139|   2| 183|   5.0|\n",
            "|  238|   2| 434|   4.0|\n",
            "|  482|   2| 251|   5.0|\n",
            "|  674|   2| 288|   5.0|\n",
            "|  757|   2| 204|   4.5|\n",
            "| 1097|   2|  82|   4.5|\n",
            "| 1108|   2| 310|   2.0|\n",
            "| 1180|   2| 176|   5.0|\n",
            "| 1213|   2|   0|   3.5|\n",
            "| 1274|   2| 199|   4.5|\n",
            "| 1399|   2| 320|   2.0|\n",
            "| 1485|   2| 271|   4.0|\n",
            "| 1568|   2| 216|   1.0|\n",
            "| 1622|   2| 294|   4.5|\n",
            "+-----+----+----+------+\n",
            "only showing top 20 rows\n",
            "\n"
          ]
        }
      ]
    },
    {
      "cell_type": "code",
      "source": [
        "# Lọc và tách dữ liệu thành tập huấn luyện và tập kiểm tra\n",
        "train_data = ratings\n",
        "test_data = ratings.filter((ratings.user >= 71) & (ratings.item >= 401))\n",
        " # Lấy dữ liệu của người dùng từ 71 đến hết và items từ 401 đến hết"
      ],
      "metadata": {
        "id": "L77Zwx4OUmWZ"
      },
      "execution_count": 9,
      "outputs": []
    },
    {
      "cell_type": "code",
      "source": [
        "from pyspark.ml.recommendation import ALS\n",
        "als = ALS(rank = 5,\n",
        "          maxIter = 5,\n",
        "          userCol=\"user\", \n",
        "          itemCol=\"item\", \n",
        "          ratingCol=\"rating\",\n",
        "          numUserBlocks = 60,\n",
        "          regParam = 0.01)\n",
        "model = als.fit(train_data)"
      ],
      "metadata": {
        "id": "YddqVSZxU3h8"
      },
      "execution_count": 10,
      "outputs": []
    },
    {
      "cell_type": "code",
      "source": [
        "predictions = model.transform(test_data)\n",
        "evaluator = RegressionEvaluator(metricName=\"mse\", labelCol=\"rating\",\n",
        "                                predictionCol=\"prediction\")\n",
        "mse = evaluator.evaluate(predictions)\n",
        "print(\"MSE = \",mse)"
      ],
      "metadata": {
        "colab": {
          "base_uri": "https://localhost:8080/"
        },
        "id": "jvA_QBDXVOhz",
        "outputId": "004294e1-94e2-4ec5-8e8c-0db5e40b2238"
      },
      "execution_count": 11,
      "outputs": [
        {
          "output_type": "stream",
          "name": "stdout",
          "text": [
            "MSE =  0.09646192568250929\n"
          ]
        }
      ]
    },
    {
      "cell_type": "code",
      "source": [
        "predictions.show()"
      ],
      "metadata": {
        "colab": {
          "base_uri": "https://localhost:8080/"
        },
        "id": "lzFSxUBRVbDZ",
        "outputId": "c803239f-8145-4123-d05f-a1e0eabb43df"
      },
      "execution_count": 12,
      "outputs": [
        {
          "output_type": "stream",
          "name": "stdout",
          "text": [
            "+-----+----+----+------+----------+\n",
            "|index|user|item|rating|prediction|\n",
            "+-----+----+----+------+----------+\n",
            "| 2208|  72| 451|   4.0| 4.0065737|\n",
            "| 1898|  72| 436|   4.0| 3.8972464|\n",
            "|  843|  72| 406|   2.0| 2.7049277|\n",
            "| 1585|  72| 412|   3.0| 2.7101414|\n",
            "| 1208|  73| 412|   3.0| 3.0890405|\n",
            "|  324|  72| 460|   3.0|   3.00493|\n",
            "| 1788|  72| 417|   2.0|  1.837924|\n",
            "|  299|  73| 417|   3.0| 3.0867054|\n",
            "|  157|  72| 444|   3.0|  3.223478|\n",
            "|   41|  72| 435|   4.0| 3.8670328|\n",
            "|  694|  72| 440|   3.0| 4.2921796|\n",
            "| 1228|  72| 432|   5.0| 4.4767704|\n",
            "| 2043|  72| 452|   4.0|  4.050189|\n",
            "| 2132|  72| 425|   3.0|   3.10914|\n",
            "|  200|  72| 447|   4.0| 4.0065737|\n",
            "| 1897|  72| 462|   4.0| 3.8262565|\n",
            "| 1035|  72| 437|   5.0|  4.826022|\n",
            "| 1701|  72| 456|   5.0| 4.3451123|\n",
            "|  797|  72| 446|   2.0| 2.1292784|\n",
            "| 1587|  72| 453|   4.0| 4.0065737|\n",
            "+-----+----+----+------+----------+\n",
            "only showing top 20 rows\n",
            "\n"
          ]
        }
      ]
    },
    {
      "cell_type": "code",
      "source": [
        "predictions.printSchema()\n",
        "print(\"Pearson Correlation: \",end=\"\")\n",
        "predictions.corr(\"rating\",\"prediction\")"
      ],
      "metadata": {
        "colab": {
          "base_uri": "https://localhost:8080/"
        },
        "id": "XOGXSjifVjbJ",
        "outputId": "5ce3d2ac-e441-479b-8fd6-b4f8e0d8d1c1"
      },
      "execution_count": 13,
      "outputs": [
        {
          "output_type": "stream",
          "name": "stdout",
          "text": [
            "root\n",
            " |-- index: integer (nullable = true)\n",
            " |-- user: integer (nullable = true)\n",
            " |-- item: integer (nullable = true)\n",
            " |-- rating: double (nullable = true)\n",
            " |-- prediction: float (nullable = false)\n",
            "\n",
            "Pearson Correlation: "
          ]
        },
        {
          "output_type": "execute_result",
          "data": {
            "text/plain": [
              "0.9584556304650566"
            ]
          },
          "metadata": {},
          "execution_count": 13
        }
      ]
    },
    {
      "cell_type": "markdown",
      "source": [
        "## Câu 4"
      ],
      "metadata": {
        "id": "3R-18UqoVyGU"
      }
    },
    {
      "cell_type": "code",
      "source": [
        "data = sqlc.read.option(\"header\", True) \\\n",
        "                .option(\"inferSchema\", True) \\\n",
        "                .csv(\"/content/drive/MyDrive/BigData/data/stockHVN2022.csv\")"
      ],
      "metadata": {
        "id": "I2WVLp8wVzQx"
      },
      "execution_count": null,
      "outputs": []
    },
    {
      "cell_type": "code",
      "source": [
        "data.show()"
      ],
      "metadata": {
        "colab": {
          "base_uri": "https://localhost:8080/"
        },
        "id": "RHYJyLzDXSO8",
        "outputId": "46572d6c-2eaf-4acc-b6c1-0875bb2002a1"
      },
      "execution_count": null,
      "outputs": [
        {
          "output_type": "stream",
          "name": "stdout",
          "text": [
            "+----------+-----+\n",
            "|      Ngay|  HVN|\n",
            "+----------+-----+\n",
            "|18/11/2022|  9.3|\n",
            "|17/11/2022| 9.42|\n",
            "|16/11/2022| 9.21|\n",
            "|15/11/2022| 8.61|\n",
            "|14/11/2022| 9.25|\n",
            "|11/11/2022|  9.9|\n",
            "|10/11/2022| 9.76|\n",
            "|09/11/2022| 10.4|\n",
            "|08/11/2022|10.25|\n",
            "|07/11/2022| 10.1|\n",
            "|04/11/2022| 10.7|\n",
            "|03/11/2022|10.85|\n",
            "|02/11/2022| 10.9|\n",
            "|01/11/2022| 10.9|\n",
            "|31/10/2022| 10.8|\n",
            "|28/10/2022|10.75|\n",
            "|27/10/2022|10.85|\n",
            "|26/10/2022|10.55|\n",
            "|25/10/2022|10.55|\n",
            "|24/10/2022|10.55|\n",
            "+----------+-----+\n",
            "only showing top 20 rows\n",
            "\n"
          ]
        }
      ]
    },
    {
      "cell_type": "code",
      "source": [
        "from pyspark.sql.functions import split\n",
        "\n",
        "rdd_stock = data.select(split(data.Ngay, '/').getItem(1).alias(\"month\"), data.HVN) \\\n",
        "                .rdd \\\n",
        "                .sortBy(lambda x: x[0]) \\\n",
        "                .collect()"
      ],
      "metadata": {
        "id": "2g-vvHmAXUGW"
      },
      "execution_count": null,
      "outputs": []
    },
    {
      "cell_type": "code",
      "source": [
        "def pivot_list(arr):\n",
        "    rs = []\n",
        "    for i in range(len(arr) - 5):\n",
        "        tempL = arr[i:i+5]\n",
        "        tempR = arr[i+5]\n",
        "        rs.append((tempL, tempR))\n",
        "    return rs"
      ],
      "metadata": {
        "id": "ks0CqzKxXkMF"
      },
      "execution_count": null,
      "outputs": []
    },
    {
      "cell_type": "code",
      "source": [
        "temp_1 = [rdd_stock[i][1] for i in range(len(rdd_stock)) if rdd_stock[i][0] <= '08']\n",
        "temp_2 = [rdd_stock[i][1] for i in range(len(rdd_stock)) if rdd_stock[i][0] > '08']\n",
        "training = pivot_list(temp_1)\n",
        "testing = pivot_list(temp_2)"
      ],
      "metadata": {
        "id": "d7wn9oqkXuJJ"
      },
      "execution_count": null,
      "outputs": []
    },
    {
      "cell_type": "code",
      "source": [
        "from pyspark.ml.linalg import Vectors, VectorUDT\n",
        "from pyspark.sql.functions import udf\n",
        "from pyspark.ml.feature import VectorAssembler\n",
        "\n",
        "# định nghĩa một UDF để chuyển đổi từ array float sang 1 dense vector\n",
        "to_dense_vector_udf = udf(lambda arr: Vectors.dense(arr), VectorUDT())\n",
        "\n",
        "df_training = sqlc.createDataFrame(training, ['features', 'label'])\n",
        "df_testing = sqlc.createDataFrame(testing, ['features', 'label'])\n",
        "\n",
        "# sử dụng UDF cho cột features để chuyển đổ sang dense vector\n",
        "df_training = df_training.withColumn(\"features\", to_dense_vector_udf(df_training[\"features\"]))\n",
        "df_testing = df_testing.withColumn(\"features\", to_dense_vector_udf(df_testing[\"features\"]))\n",
        "\n",
        "assembler = VectorAssembler(inputCols=[\"features\"], outputCol=\"features_vector\")\n",
        "df_training = assembler.transform(df_training).select(\"features_vector\", \"label\")\n",
        "df_testing = assembler.transform(df_testing).select(\"features_vector\", \"label\")"
      ],
      "metadata": {
        "id": "pQq3mRQ-YJmX"
      },
      "execution_count": null,
      "outputs": []
    },
    {
      "cell_type": "code",
      "source": [
        "df_training.show()\n",
        "df_training.printSchema()"
      ],
      "metadata": {
        "colab": {
          "base_uri": "https://localhost:8080/"
        },
        "id": "pbTpDBAqaz_r",
        "outputId": "b2c5fdce-968b-44d2-8350-7b2a6ebc8e84"
      },
      "execution_count": null,
      "outputs": [
        {
          "output_type": "stream",
          "name": "stdout",
          "text": [
            "+--------------------+-----+\n",
            "|     features_vector|label|\n",
            "+--------------------+-----+\n",
            "|[24.3,24.0,24.1,2...| 22.7|\n",
            "|[24.0,24.1,23.35,...|22.75|\n",
            "|[24.1,23.35,22.8,...| 22.7|\n",
            "|[23.35,22.8,22.7,...|22.95|\n",
            "|[22.8,22.7,22.75,...| 22.9|\n",
            "|[22.7,22.75,22.7,...| 22.7|\n",
            "|[22.75,22.7,22.95...|22.65|\n",
            "|[22.7,22.95,22.9,...|22.95|\n",
            "|[22.95,22.9,22.7,...|23.05|\n",
            "|[22.9,22.7,22.65,...| 23.2|\n",
            "|[22.7,22.65,22.95...|22.65|\n",
            "|[22.65,22.95,23.0...|22.85|\n",
            "|[22.95,23.05,23.2...| 23.1|\n",
            "|[23.05,23.2,22.65...| 23.3|\n",
            "|[23.2,22.65,22.85...|25.35|\n",
            "|[22.65,22.85,23.1...| 25.9|\n",
            "|[22.85,23.1,23.3,...|25.65|\n",
            "|[23.1,23.3,25.35,...|26.25|\n",
            "|[23.3,25.35,25.9,...| 26.1|\n",
            "|[25.35,25.9,25.65...| 26.8|\n",
            "+--------------------+-----+\n",
            "only showing top 20 rows\n",
            "\n",
            "root\n",
            " |-- features_vector: vector (nullable = true)\n",
            " |-- label: double (nullable = true)\n",
            "\n"
          ]
        }
      ]
    },
    {
      "cell_type": "code",
      "source": [
        "df_testing.show()\n",
        "df_testing.printSchema()"
      ],
      "metadata": {
        "colab": {
          "base_uri": "https://localhost:8080/"
        },
        "id": "yyXWWHsta6m2",
        "outputId": "04885a45-ca19-48b8-de7c-5547b03b114d"
      },
      "execution_count": null,
      "outputs": [
        {
          "output_type": "stream",
          "name": "stdout",
          "text": [
            "+--------------------+-----+\n",
            "|     features_vector|label|\n",
            "+--------------------+-----+\n",
            "|[13.35,13.6,13.65...| 14.6|\n",
            "|[13.6,13.65,14.05...| 14.8|\n",
            "|[13.65,14.05,14.2...|14.65|\n",
            "|[14.05,14.25,14.6...|14.95|\n",
            "|[14.25,14.6,14.8,...|14.55|\n",
            "|[14.6,14.8,14.65,...|14.85|\n",
            "|[14.8,14.65,14.95...|15.15|\n",
            "|[14.65,14.95,14.5...|14.75|\n",
            "|[14.95,14.55,14.8...| 14.8|\n",
            "|[14.55,14.85,15.1...|14.65|\n",
            "|[14.85,15.15,14.7...|14.85|\n",
            "|[15.15,14.75,14.8...|15.15|\n",
            "|[14.75,14.8,14.65...|16.25|\n",
            "|[14.8,14.65,14.85...|16.85|\n",
            "|[14.65,14.85,15.1...| 17.0|\n",
            "|[14.85,15.15,16.2...| 10.8|\n",
            "|[15.15,16.25,16.8...|10.75|\n",
            "|[16.25,16.85,17.0...|10.85|\n",
            "|[16.85,17.0,10.8,...|10.55|\n",
            "|[17.0,10.8,10.75,...|10.55|\n",
            "+--------------------+-----+\n",
            "only showing top 20 rows\n",
            "\n",
            "root\n",
            " |-- features_vector: vector (nullable = true)\n",
            " |-- label: double (nullable = true)\n",
            "\n"
          ]
        }
      ]
    },
    {
      "cell_type": "code",
      "source": [
        "from pyspark.ml.regression import LinearRegression\n",
        "\n",
        "# Xây dựng mô hình Linear Regression\n",
        "lr = LinearRegression(featuresCol='features_vector', labelCol='label', maxIter = 10, regParam = 0.3, elasticNetParam = 0.8)\n",
        "lrModel = lr.fit(df_training)"
      ],
      "metadata": {
        "id": "b_DEKoF6a9yU"
      },
      "execution_count": null,
      "outputs": []
    },
    {
      "cell_type": "code",
      "source": [
        "# Lưu mô hình xuống tập tin\n",
        "lrModel.write().overwrite().save('/content/drive/MyDrive/BigData/linreg_model')"
      ],
      "metadata": {
        "id": "P-lnB5kIbii1"
      },
      "execution_count": null,
      "outputs": []
    },
    {
      "cell_type": "code",
      "source": [
        "# Đọc mô hình từ tập tin\n",
        "from pyspark.ml.regression import LinearRegressionModel\n",
        "\n",
        "loaded_model = LinearRegressionModel.load(\"/content/drive/MyDrive/BigData/linreg_model\")"
      ],
      "metadata": {
        "id": "1YQA1UaocPLB"
      },
      "execution_count": null,
      "outputs": []
    },
    {
      "cell_type": "code",
      "source": [
        "# Dự đoán kết quả đối với tập train\n",
        "pred_results_train = loaded_model.evaluate(df_training)\n",
        "pred_results_train.predictions.show()"
      ],
      "metadata": {
        "colab": {
          "base_uri": "https://localhost:8080/"
        },
        "id": "wuOKK50der_M",
        "outputId": "3a493e80-b015-4b65-b728-fc46a027511a"
      },
      "execution_count": null,
      "outputs": [
        {
          "output_type": "stream",
          "name": "stdout",
          "text": [
            "+--------------------+-----+------------------+\n",
            "|     features_vector|label|        prediction|\n",
            "+--------------------+-----+------------------+\n",
            "|[24.3,24.0,24.1,2...| 22.7| 22.78503637901166|\n",
            "|[24.0,24.1,23.35,...|22.75|22.525248799412786|\n",
            "|[24.1,23.35,22.8,...| 22.7|22.479104805032346|\n",
            "|[23.35,22.8,22.7,...|22.95| 22.45424213888017|\n",
            "|[22.8,22.7,22.75,...| 22.9| 22.58730056292722|\n",
            "|[22.7,22.75,22.7,...| 22.7| 22.61631111282257|\n",
            "|[22.75,22.7,22.95...|22.65| 22.51382650308939|\n",
            "|[22.7,22.95,22.9,...|22.95| 22.43177614449911|\n",
            "|[22.95,22.9,22.7,...|23.05|22.570447649708235|\n",
            "|[22.9,22.7,22.65,...| 23.2|22.696329728174693|\n",
            "|[22.7,22.65,22.95...|22.65|22.832618231345464|\n",
            "|[22.65,22.95,23.0...|22.85|22.568715590755996|\n",
            "|[22.95,23.05,23.2...| 23.1|22.559221487384093|\n",
            "|[23.05,23.2,22.65...| 23.3| 22.69982666883175|\n",
            "|[23.2,22.65,22.85...|25.35|22.892286992821546|\n",
            "|[22.65,22.85,23.1...| 25.9|24.119474302226482|\n",
            "|[22.85,23.1,23.3,...|25.65|24.953418257958056|\n",
            "|[23.1,23.3,25.35,...|26.25|25.133298958937203|\n",
            "|[23.3,25.35,25.9,...| 26.1|  25.4593650997735|\n",
            "|[25.35,25.9,25.65...| 26.8| 25.50035082207873|\n",
            "+--------------------+-----+------------------+\n",
            "only showing top 20 rows\n",
            "\n"
          ]
        }
      ]
    },
    {
      "cell_type": "code",
      "source": [
        "# Dự đoán kết quả đối với tập test\n",
        "pred_results_test = loaded_model.evaluate(df_testing)\n",
        "pred_results_test.predictions.show()"
      ],
      "metadata": {
        "colab": {
          "base_uri": "https://localhost:8080/"
        },
        "id": "w126-JW4gU2g",
        "outputId": "93a3d7aa-a090-4d09-f216-09ae496f3414"
      },
      "execution_count": null,
      "outputs": [
        {
          "output_type": "stream",
          "name": "stdout",
          "text": [
            "+--------------------+-----+------------------+\n",
            "|     features_vector|label|        prediction|\n",
            "+--------------------+-----+------------------+\n",
            "|[13.35,13.6,13.65...| 14.6|14.728308463118806|\n",
            "|[13.6,13.65,14.05...| 14.8|15.011011362898554|\n",
            "|[13.65,14.05,14.2...|14.65|15.228151888774045|\n",
            "|[14.05,14.25,14.6...|14.95|15.224570550850132|\n",
            "|[14.25,14.6,14.8,...|14.55|15.374664352382649|\n",
            "|[14.6,14.8,14.65,...|14.85|15.209749380869303|\n",
            "|[14.8,14.65,14.95...|15.15|15.307168302239857|\n",
            "|[14.65,14.95,14.5...|14.75|15.514169264944371|\n",
            "|[14.95,14.55,14.8...| 14.8|15.389869603916251|\n",
            "|[14.55,14.85,15.1...|14.65| 15.34640281257304|\n",
            "|[14.85,15.15,14.7...|14.85| 15.23810898767854|\n",
            "|[15.15,14.75,14.8...|15.15|15.318310067297144|\n",
            "|[14.75,14.8,14.65...|16.25|15.523194889496644|\n",
            "|[14.8,14.65,14.85...|16.85|16.235183880198836|\n",
            "|[14.65,14.85,15.1...| 17.0|16.871868685111334|\n",
            "|[14.85,15.15,16.2...| 10.8| 17.20376319412876|\n",
            "|[15.15,16.25,16.8...|10.75|13.800971568969587|\n",
            "|[16.25,16.85,17.0...|10.85|12.256160346342142|\n",
            "|[16.85,17.0,10.8,...|10.55|11.740585808243909|\n",
            "|[17.0,10.8,10.75,...|10.55|11.591690342596952|\n",
            "+--------------------+-----+------------------+\n",
            "only showing top 20 rows\n",
            "\n"
          ]
        }
      ]
    },
    {
      "cell_type": "code",
      "source": [
        "# Tính độ đo MSE cho tập train và test\n",
        "train_mse = pred_results_train.meanSquaredError\n",
        "test_mse = pred_results_test.meanSquaredError\n",
        "print(\"Mean squared error of train data\", train_mse)\n",
        "print(\"Mean squared error of test data\", test_mse)"
      ],
      "metadata": {
        "colab": {
          "base_uri": "https://localhost:8080/"
        },
        "id": "rkhLrcaAgZgX",
        "outputId": "2a2fdb6e-4560-49f6-ee3a-cd27d5fa1dbc"
      },
      "execution_count": null,
      "outputs": [
        {
          "output_type": "stream",
          "name": "stdout",
          "text": [
            "Mean squared error of train data 1.0539797517581313\n",
            "Mean squared error of test data 1.9755975428083403\n"
          ]
        }
      ]
    },
    {
      "cell_type": "code",
      "source": [
        "import matplotlib.pyplot as plt\n",
        "\n",
        "# Vẽ biểu đồ cột thể hiện giá trị Mean Square Error trên tập huấn luyện và tập kiểm tra\n",
        "x = [\"Train\", \"Test\"]\n",
        "y = [train_mse, test_mse]\n",
        "\n",
        "plt.bar(x, y)\n",
        "plt.ylabel(\"Mean Square Error\")\n",
        "plt.show()"
      ],
      "metadata": {
        "colab": {
          "base_uri": "https://localhost:8080/",
          "height": 430
        },
        "id": "De4vzFd0gdLS",
        "outputId": "6d6b639c-4b51-4b75-e1c7-7a6c8b2d5d3d"
      },
      "execution_count": null,
      "outputs": [
        {
          "output_type": "display_data",
          "data": {
            "text/plain": [
              "<Figure size 640x480 with 1 Axes>"
            ],
            "image/png": "[encoded data removed]"
          },
          "metadata": {}
        }
      ]
    }
  ]
}