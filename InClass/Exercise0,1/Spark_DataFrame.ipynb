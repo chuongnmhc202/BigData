{
  "nbformat": 4,
  "nbformat_minor": 0,
  "metadata": {
    "colab": {
      "provenance": []
    },
    "kernelspec": {
      "name": "python3",
      "display_name": "Python 3"
    },
    "language_info": {
      "name": "python"
    }
  },
  "cells": [
    {
      "cell_type": "code",
      "execution_count": null,
      "metadata": {
        "id": "ceKP72Bc8oWR"
      },
      "outputs": [],
      "source": [
        "!apt-get install openjdk-8-jdk-headless -qq > /dev/null\n",
        "!wget -q http://archive.apache.org/dist/spark/spark-3.1.1/spark-3.1.1-bin-hadoop3.2.tgz\n",
        "!tar xf spark-3.1.1-bin-hadoop3.2.tgz\n",
        "!pip install -q findspark"
      ]
    },
    {
      "cell_type": "code",
      "source": [
        "import os\n",
        "os.environ[\"JAVA_HOME\"] = \"/usr/lib/jvm/java-8-openjdk-amd64\"\n",
        "os.environ[\"SPARK_HOME\"] = \"/content/spark-3.1.1-bin-hadoop3.2\""
      ],
      "metadata": {
        "id": "FV5YqhMW9hK5"
      },
      "execution_count": null,
      "outputs": []
    },
    {
      "cell_type": "code",
      "source": [
        "! echo $SPARK_HOME"
      ],
      "metadata": {
        "colab": {
          "base_uri": "https://localhost:8080/"
        },
        "id": "GOnlwj5R9jDC",
        "outputId": "8ef4b820-522d-413e-d4ba-947e74115f9b"
      },
      "execution_count": null,
      "outputs": [
        {
          "output_type": "stream",
          "name": "stdout",
          "text": [
            "/content/spark-3.1.1-bin-hadoop3.2\n"
          ]
        }
      ]
    },
    {
      "cell_type": "code",
      "source": [
        "import findspark\n",
        "findspark.init()"
      ],
      "metadata": {
        "id": "yJvh5r5u9lIF"
      },
      "execution_count": null,
      "outputs": []
    },
    {
      "cell_type": "code",
      "source": [
        "! pwd"
      ],
      "metadata": {
        "colab": {
          "base_uri": "https://localhost:8080/"
        },
        "id": "BW4hhO4P9m2V",
        "outputId": "b13e7c05-6b84-4c5b-eacf-be4c406bef0d"
      },
      "execution_count": null,
      "outputs": [
        {
          "output_type": "stream",
          "name": "stdout",
          "text": [
            "/content\n"
          ]
        }
      ]
    },
    {
      "cell_type": "code",
      "source": [
        "! ls /"
      ],
      "metadata": {
        "colab": {
          "base_uri": "https://localhost:8080/"
        },
        "id": "eP_hp1Qr9pLk",
        "outputId": "a56e135d-b706-48d5-dcba-523fbeab359c"
      },
      "execution_count": null,
      "outputs": [
        {
          "output_type": "stream",
          "name": "stdout",
          "text": [
            "bin\t dev   lib32  NGC-DL-CONTAINER-LICENSE\troot  sys    var\n",
            "boot\t etc   lib64  opt\t\t\trun   tmp\n",
            "content  home  media  proc\t\t\tsbin  tools\n",
            "datalab  lib   mnt    python-apt\t\tsrv   usr\n"
          ]
        }
      ]
    },
    {
      "cell_type": "code",
      "source": [
        "from pyspark import SparkContext\n",
        "\n",
        "sc = SparkContext(\"local\", \"sum app\")"
      ],
      "metadata": {
        "id": "vDzb2-ua9q-D"
      },
      "execution_count": null,
      "outputs": []
    },
    {
      "cell_type": "code",
      "source": [
        "from pyspark.sql import SQLContext\n",
        "from pyspark.sql import SparkSession\n",
        "\n",
        "# sqlc = SQLContext(sc)"
      ],
      "metadata": {
        "id": "cs55RNPS-IEx"
      },
      "execution_count": null,
      "outputs": []
    },
    {
      "cell_type": "code",
      "source": [
        "spark = SparkSession \\\n",
        ".builder \\\n",
        ".appName(\"Python Spark create RDD example\") \\\n",
        ".config(\"spark.some.config.option\", \"some-value\") \\\n",
        ".getOrCreate()\n",
        "\n",
        "\n",
        "df = spark.read.format('com.databricks.spark.csv').\\\n",
        "options(header='true', \\\n",
        "inferschema='true').\\\n",
        "load(\"/content/sample_data/WHO-COVID-19-global.csv\",header=True)"
      ],
      "metadata": {
        "id": "MVbyxsWE-5UX"
      },
      "execution_count": null,
      "outputs": []
    },
    {
      "cell_type": "code",
      "source": [
        "df.show()"
      ],
      "metadata": {
        "colab": {
          "base_uri": "https://localhost:8080/"
        },
        "id": "9f_OsdHHJH8E",
        "outputId": "e6ba63ef-68a5-40fa-c80c-6c78ce67b12a"
      },
      "execution_count": null,
      "outputs": [
        {
          "output_type": "stream",
          "name": "stdout",
          "text": [
            "+--------------------+--------------------+------------------------+----------------------------------------------+-------------------------------------+-----------------------------------------------------------+---------------------------------------+-------------------------+-----------------------------------------------+--------------------------------------+------------------------------------------------------------+----------------------------------------+\n",
            "|                Name|          WHO Region|Cases - cumulative total|Cases - cumulative total per 100000 population|Cases - newly reported in last 7 days|Cases - newly reported in last 7 days per 100000 population|Cases - newly reported in last 24 hours|Deaths - cumulative total|Deaths - cumulative total per 100000 population|Deaths - newly reported in last 7 days|Deaths - newly reported in last 7 days per 100000 population|Deaths - newly reported in last 24 hours|\n",
            "+--------------------+--------------------+------------------------+----------------------------------------------+-------------------------------------+-----------------------------------------------------------+---------------------------------------+-------------------------+-----------------------------------------------+--------------------------------------+------------------------------------------------------------+----------------------------------------+\n",
            "|United States of ...|            Americas|                93580725|                                     28271.896|                               476675|                                                    144.009|                                  25686|                  1036949|                                        313.275|                                  2423|                                                       0.732|                                      67|\n",
            "|               India|     South-East Asia|                44472241|                                      3222.616|                                43848|                                                      3.177|                                   5379|                   528057|                                         38.265|                                   183|                                                       0.013|                                      27|\n",
            "|              Brazil|            Americas|                34477539|                                     16220.189|                                80334|                                                     37.794|                                      0|                   684425|                                        321.992|                                   803|                                                       0.378|                                       0|\n",
            "|              France|              Europe|                33599863|                                     51660.815|                               105883|                                                    162.798|                                  26918|                   150804|                                        231.866|                                   281|                                                       0.432|                                      60|\n",
            "|             Germany|              Europe|                32344032|                                     38890.599|                               181064|                                                    217.712|                                  33311|                   147981|                                        177.933|                                    45|                                                       0.054|                                       4|\n",
            "|   Republic of Korea|     Western Pacific|                23791961|                                     46405.967|                               545637|                                                   1064.259|                                  85540|                    27249|                                         53.149|                                   485|                                                       0.946|                                      56|\n",
            "|  The United Kingdom|              Europe|                23522244|                                     34649.622|                                 2853|                                                      4.203|                                      0|                   188242|                                        277.291|                                     0|                                                         0.0|                                       0|\n",
            "|               Italy|              Europe|                21969725|                                     36836.313|                               123782|                                                    207.543|                                  24848|                   175952|                                        295.016|                                   447|                                                       0.749|                                      80|\n",
            "|  Russian Federation|              Europe|                19857571|                                     13607.184|                               328602|                                                    225.171|                                  47958|                   384976|                                        263.801|                                   630|                                                       0.432|                                      94|\n",
            "|               Japan|     Western Pacific|                19635246|                                     15524.822|                               863242|                                                    682.532|                                 100729|                    41575|                                         32.872|                                  2011|                                                        1.59|                                     282|\n",
            "|             Türkiye|              Europe|                16797750|                                     19916.927|                                    0|                                                        0.0|                                      0|                   100840|                                        119.565|                                     0|                                                         0.0|                                       0|\n",
            "|               Spain|              Europe|                13358722|                                     28223.081|                                16192|                                                     34.209|                                   6703|                   112903|                                        238.531|                                   303|                                                        0.64|                                      99|\n",
            "|            Viet Nam|     Western Pacific|                11424754|                                     11737.128|                                15802|                                                     16.234|                                   3699|                    43123|                                         44.302|                                     6|                                                       0.006|                                       1|\n",
            "|           Australia|     Western Pacific|                10084917|                                     39548.874|                                67015|                                                    262.805|                                   9251|                    14152|                                         55.498|                                   318|                                                       1.247|                                      75|\n",
            "|           Argentina|            Americas|                 9689861|                                      21439.75|                                11636|                                                     25.746|                                      0|                   129769|                                        287.126|                                    58|                                                       0.128|                                       0|\n",
            "|         Netherlands|              Europe|                 8392953|                                     48214.344|                                 7856|                                                      45.13|                                   1453|                    22609|                                         129.88|                                    10|                                                       0.057|                                       4|\n",
            "|Iran (Islamic Rep...|Eastern Mediterra...|                 7535272|                                      8971.315|                                 7773|                                                      9.254|                                   1090|                   144048|                                          171.5|                                   228|                                                       0.271|                                      29|\n",
            "|              Mexico|            Americas|                 7041181|                                      5461.127|                                 7299|                                                      5.661|                                      0|                   329622|                                        255.654|                                    54|                                                       0.042|                                       0|\n",
            "|               China|     Western Pacific|                 6655733|                                       452.375|                               254259|                                                     17.281|                                  39674|                    25088|                                          1.705|                                   282|                                                       0.019|                                      30|\n",
            "|           Indonesia|     South-East Asia|                 6382002|                                      2333.254|                                23194|                                                       8.48|                                   3513|                   157717|                                         57.661|                                   151|                                                       0.055|                                      21|\n",
            "+--------------------+--------------------+------------------------+----------------------------------------------+-------------------------------------+-----------------------------------------------------------+---------------------------------------+-------------------------+-----------------------------------------------+--------------------------------------+------------------------------------------------------------+----------------------------------------+\n",
            "only showing top 20 rows\n",
            "\n"
          ]
        }
      ]
    },
    {
      "cell_type": "code",
      "source": [
        "df.groupBy('WHO Region').sum('Cases - cumulative total', 'Cases - cumulative total per 100000 population', \\\n",
        "                             'Cases - newly reported in last 7 days', 'Cases - newly reported in last 7 days per 100000 population', \\\n",
        "                             'Cases - newly reported in last 24 hours', 'Deaths - cumulative total', 'Deaths - cumulative total per 100000 population', \\\n",
        "                             'Deaths - newly reported in last 7 days', 'Deaths - newly reported in last 7 days per 100000 population', \\\n",
        "                             'Deaths - newly reported in last 24 hours').show()\n",
        "\n",
        "\n"
      ],
      "metadata": {
        "colab": {
          "base_uri": "https://localhost:8080/"
        },
        "id": "uUPFbVcYFKoK",
        "outputId": "07f6e772-a19d-4279-c0e6-4f8eb0df99cb"
      },
      "execution_count": null,
      "outputs": [
        {
          "output_type": "stream",
          "name": "stdout",
          "text": [
            "+--------------------+-----------------------------+---------------------------------------------------+------------------------------------------+----------------------------------------------------------------+--------------------------------------------+------------------------------+----------------------------------------------------+-------------------------------------------+-----------------------------------------------------------------+---------------------------------------------+\n",
            "|          WHO Region|sum(Cases - cumulative total)|sum(Cases - cumulative total per 100000 population)|sum(Cases - newly reported in last 7 days)|sum(Cases - newly reported in last 7 days per 100000 population)|sum(Cases - newly reported in last 24 hours)|sum(Deaths - cumulative total)|sum(Deaths - cumulative total per 100000 population)|sum(Deaths - newly reported in last 7 days)|sum(Deaths - newly reported in last 7 days per 100000 population)|sum(Deaths - newly reported in last 24 hours)|\n",
            "+--------------------+-----------------------------+---------------------------------------------------+------------------------------------------+----------------------------------------------------------------+--------------------------------------------+------------------------------+----------------------------------------------------+-------------------------------------------+-----------------------------------------------------------------+---------------------------------------------+\n",
            "|              Europe|                    249105808|                                        2038171.577|                                    988960|                                               5609.703000000002|                                      182316|                       2080678|                                  13557.154999999997|                                       2626|                                               24.577999999999996|                                          523|\n",
            "|     Western Pacific|                     85868508|                                         607137.069|                                   1806067|                                               5451.098000000001|                                      247343|                        263345|                                  1600.8790000000001|                                       3555|                                                            6.974|                                          514|\n",
            "|              Africa|                      9298893|                                 203666.50600000008|                                     10542|                                               935.7560000000001|                                         238|                        174350|                                  1435.9070000000002|                                         42|                                                            1.535|                                            1|\n",
            "|Eastern Mediterra...|                     23011442|                                 178510.42900000003|                                     28094|                                                         360.165|                                        2933|                        347843|                                  1461.8470000000004|                                        299|                                               0.6960000000000002|                                           33|\n",
            "|               Other|                          764|                                                0.0|                                         0|                                                             0.0|                                           0|                            13|                                                 0.0|                                          0|                                                              0.0|                                            0|\n",
            "|            Americas|                    176342137|                                 1208742.0069999995|                                    696441|                                                        4434.753|                                       28836|                       2821706|                                            9417.268|                                       4500|                                                           13.143|                                          136|\n",
            "|     South-East Asia|                     60084208|                                          65053.017|                                     82449|                                              61.922999999999995|                                       10916|                        796201|                                  385.42699999999996|                                        531|                                               0.4210000000000001|                                           70|\n",
            "+--------------------+-----------------------------+---------------------------------------------------+------------------------------------------+----------------------------------------------------------------+--------------------------------------------+------------------------------+----------------------------------------------------+-------------------------------------------+-----------------------------------------------------------------+---------------------------------------------+\n",
            "\n"
          ]
        }
      ]
    },
    {
      "cell_type": "code",
      "source": [
        "df.printSchema()"
      ],
      "metadata": {
        "id": "y5EpThb7NXsi",
        "outputId": "288147a6-3b63-4be0-8028-c1bb5a20a317",
        "colab": {
          "base_uri": "https://localhost:8080/"
        }
      },
      "execution_count": null,
      "outputs": [
        {
          "output_type": "stream",
          "name": "stdout",
          "text": [
            "root\n",
            " |-- Name: string (nullable = true)\n",
            " |-- WHO Region: string (nullable = true)\n",
            " |-- Cases - cumulative total: integer (nullable = true)\n",
            " |-- Cases - cumulative total per 100000 population: double (nullable = true)\n",
            " |-- Cases - newly reported in last 7 days: integer (nullable = true)\n",
            " |-- Cases - newly reported in last 7 days per 100000 population: double (nullable = true)\n",
            " |-- Cases - newly reported in last 24 hours: integer (nullable = true)\n",
            " |-- Deaths - cumulative total: integer (nullable = true)\n",
            " |-- Deaths - cumulative total per 100000 population: double (nullable = true)\n",
            " |-- Deaths - newly reported in last 7 days: integer (nullable = true)\n",
            " |-- Deaths - newly reported in last 7 days per 100000 population: double (nullable = true)\n",
            " |-- Deaths - newly reported in last 24 hours: integer (nullable = true)\n",
            "\n"
          ]
        }
      ]
    }
  ]
}