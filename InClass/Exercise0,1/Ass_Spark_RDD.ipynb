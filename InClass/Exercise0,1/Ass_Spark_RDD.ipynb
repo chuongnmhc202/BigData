{
  "nbformat": 4,
  "nbformat_minor": 0,
  "metadata": {
    "colab": {
      "provenance": []
    },
    "kernelspec": {
      "name": "python3",
      "display_name": "Python 3"
    },
    "language_info": {
      "name": "python"
    }
  },
  "cells": [
    {
      "cell_type": "markdown",
      "source": [
        "Cho tập tin WHO-COVID-19-global.tsv đính kèm, các cột theo thứ tự từ trái sang phải là: \n",
        "(A) Name\n",
        "\n",
        "*   (B) WHO Region\n",
        "* (C) Cases - cumulative total\n",
        "* (D) Cases - cumulative total per 100000\n",
        "population\n",
        "* (E) Cases - newly reported in last 7 days\n",
        "* (F) Cases - newly reported in last 7 days per\n",
        "100000 population\n",
        "* (G) Cases - newly reported in last 24 hours\n",
        "* (H) Deaths - cumulative total\n",
        "* (I) Deaths - cumulative total per 100000\n",
        "population\n",
        "* (J) Deaths - newly reported in last 7 days\n",
        "* (K) Deaths - newly reported in last 7 days per\n",
        "100000 population\n",
        "(L) Deaths - newly reported in last 24 hours\n",
        "\n",
        "Chỉ dùng các hàm xử lý cơ bản của RDD (không dùng DataFrame), sinh viên viết một chương trình Python tính ra tổng giá trị các cột (C), (D), (E), ..., (L) theo từng khu vực WHO (cột (B)). Kết quả được lưu xuống thư mục \"WHO-COVID19\".\n",
        "Gợi ý: sử dụng các hàm textFile, flatMap, map, reduceByKey, saveAsTextFile.\n",
        "Sinh viên đặt tên file nộp theo dạng <MSSV>.py, ví dụ 52000001.py."
      ],
      "metadata": {
        "id": "d3lBlsWHkSsD"
      }
    },
    {
      "cell_type": "code",
      "execution_count": null,
      "metadata": {
        "id": "YNrgrkNokIlk"
      },
      "outputs": [],
      "source": [
        "!apt-get install openjdk-8-jdk-headless -qq > /dev/null\n",
        "!wget -q http://archive.apache.org/dist/spark/spark-3.1.1/spark-3.1.1-bin-hadoop3.2.tgz\n",
        "!tar xf spark-3.1.1-bin-hadoop3.2.tgz\n",
        "!pip install -q findspark"
      ]
    },
    {
      "cell_type": "code",
      "source": [
        "import os\n",
        "os.environ[\"JAVA_HOME\"] = \"/usr/lib/jvm/java-8-openjdk-amd64\"\n",
        "os.environ[\"SPARK_HOME\"] = \"/content/spark-3.1.1-bin-hadoop3.2\""
      ],
      "metadata": {
        "id": "hLpWDeoCkWxU"
      },
      "execution_count": null,
      "outputs": []
    },
    {
      "cell_type": "code",
      "source": [
        "! echo $SPARK_HOME"
      ],
      "metadata": {
        "colab": {
          "base_uri": "https://localhost:8080/"
        },
        "id": "0vEBjDyHkYOL",
        "outputId": "4f23ac38-731b-4c97-8221-1ecf0f619168"
      },
      "execution_count": null,
      "outputs": [
        {
          "output_type": "stream",
          "name": "stdout",
          "text": [
            "/content/spark-3.1.1-bin-hadoop3.2\n"
          ]
        }
      ]
    },
    {
      "cell_type": "code",
      "source": [
        "import findspark\n",
        "findspark.init()"
      ],
      "metadata": {
        "id": "5GZA7kX1kan6"
      },
      "execution_count": null,
      "outputs": []
    },
    {
      "cell_type": "code",
      "source": [
        "!pwd"
      ],
      "metadata": {
        "colab": {
          "base_uri": "https://localhost:8080/"
        },
        "id": "U-S2OrQvkbQ6",
        "outputId": "bb796683-dc3d-4374-873b-aae1b2794f6a"
      },
      "execution_count": null,
      "outputs": [
        {
          "output_type": "stream",
          "name": "stdout",
          "text": [
            "/content\n"
          ]
        }
      ]
    },
    {
      "cell_type": "code",
      "source": [
        "! ls /"
      ],
      "metadata": {
        "colab": {
          "base_uri": "https://localhost:8080/"
        },
        "id": "peOIwYJzkcvB",
        "outputId": "b3bafb8a-0490-45fa-deaa-1179a505f00c"
      },
      "execution_count": null,
      "outputs": [
        {
          "output_type": "stream",
          "name": "stdout",
          "text": [
            "bin\t dev   lib32  NGC-DL-CONTAINER-LICENSE\troot  sys    var\n",
            "boot\t etc   lib64  opt\t\t\trun   tmp\n",
            "content  home  media  proc\t\t\tsbin  tools\n",
            "datalab  lib   mnt    python-apt\t\tsrv   usr\n"
          ]
        }
      ]
    },
    {
      "cell_type": "code",
      "source": [
        "from pyspark import SparkContext\n",
        "sc = SparkContext(\"local\", \"Sum App\")"
      ],
      "metadata": {
        "id": "2pMM8RuFkeBc"
      },
      "execution_count": null,
      "outputs": []
    },
    {
      "cell_type": "code",
      "source": [
        "dataFile = sc.textFile('/content/sample_data/WHO-COVID-19-global.tsv')\n",
        "print(type(dataFile))"
      ],
      "metadata": {
        "colab": {
          "base_uri": "https://localhost:8080/"
        },
        "id": "rd2_5n7Jmxic",
        "outputId": "4ee41b9e-4a4f-40fb-a0d9-cc194be69e9b"
      },
      "execution_count": null,
      "outputs": [
        {
          "output_type": "stream",
          "name": "stdout",
          "text": [
            "<class 'pyspark.rdd.RDD'>\n"
          ]
        }
      ]
    },
    {
      "cell_type": "code",
      "source": [
        "def s(x):\n",
        "  a = x.split('\\t')\n",
        "  sum = 0.0\n",
        "  array = []\n",
        "  for i in range(2, len(a)):\n",
        "    sum += float(a[i])\n",
        "  return (a[1],sum)\n"
      ],
      "metadata": {
        "id": "Noa0y62_nhzh"
      },
      "execution_count": null,
      "outputs": []
    },
    {
      "cell_type": "code",
      "source": [
        "data = dataFile.flatMap(lambda x: x.split('\\n')).map(lambda x: s(x)).reduceByKey(lambda x, y: x + y)\n",
        "\n",
        "print(data.collect())"
      ],
      "metadata": {
        "colab": {
          "base_uri": "https://localhost:8080/"
        },
        "id": "fk0AltXRovq9",
        "outputId": "a1a87fbe-4b6f-413b-9354-7bd764210958"
      },
      "execution_count": null,
      "outputs": [
        {
          "output_type": "stream",
          "name": "stdout",
          "text": [
            "[('Americas', 181116363.171), ('South-East Asia', 61039875.78800002), ('Europe', 254418274.01300004), ('Western Pacific', 88803528.01999998), ('Eastern Mediterranean', 23570977.136999995), ('Africa', 9690105.704), ('Other', 777.0)]\n"
          ]
        }
      ]
    },
    {
      "cell_type": "code",
      "source": [
        "data.saveAsTextFile('WHO-COVID19')"
      ],
      "metadata": {
        "id": "lwWnLg1tzpfN"
      },
      "execution_count": null,
      "outputs": []
    }
  ]
}